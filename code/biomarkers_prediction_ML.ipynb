{
  "nbformat": 4,
  "nbformat_minor": 0,
  "metadata": {
    "colab": {
      "provenance": []
    },
    "kernelspec": {
      "name": "ir",
      "display_name": "R"
    },
    "language_info": {
      "name": "R"
    }
  },
  "cells": [
    {
      "cell_type": "code",
      "source": [
        "# install necessary packages\n",
        "if (!require(\"BiocManager\", quietly = TRUE))\n",
        "    install.packages(\"BiocManager\")\n",
        "\n",
        "BiocManager::install(\"biomaRt\")\n",
        "install.packages(\"ranger\")\n",
        "install.packages('caret')\n",
        "install.packages('DALEX')\n",
        "install.packages('pROC')"
      ],
      "metadata": {
        "colab": {
          "base_uri": "https://localhost:8080/"
        },
        "id": "VncKY0mj3IDM",
        "outputId": "2a4b2cc3-d978-4b68-bde6-4da53cbbdb59"
      },
      "execution_count": 1,
      "outputs": [
        {
          "output_type": "stream",
          "name": "stderr",
          "text": [
            "'getOption(\"repos\")' replaces Bioconductor standard repositories, see\n",
            "'help(\"repositories\", package = \"BiocManager\")' for details.\n",
            "Replacement repositories:\n",
            "    CRAN: https://cran.rstudio.com\n",
            "\n",
            "Bioconductor version 3.19 (BiocManager 1.30.25), R 4.4.1 (2024-06-14)\n",
            "\n",
            "Warning message:\n",
            "“package(s) not installed when version(s) same as or greater than current; use\n",
            "  `force = TRUE` to re-install: 'biomaRt'”\n",
            "Installing package into ‘/usr/local/lib/R/site-library’\n",
            "(as ‘lib’ is unspecified)\n",
            "\n",
            "Installing package into ‘/usr/local/lib/R/site-library’\n",
            "(as ‘lib’ is unspecified)\n",
            "\n",
            "Installing package into ‘/usr/local/lib/R/site-library’\n",
            "(as ‘lib’ is unspecified)\n",
            "\n",
            "Installing package into ‘/usr/local/lib/R/site-library’\n",
            "(as ‘lib’ is unspecified)\n",
            "\n"
          ]
        }
      ]
    },
    {
      "cell_type": "code",
      "source": [
        "library(caret)\n",
        "library(DALEX)\n",
        "library(pROC)\n",
        "library(biomaRt)"
      ],
      "metadata": {
        "id": "86gkluJHJGbD",
        "colab": {
          "base_uri": "https://localhost:8080/"
        },
        "outputId": "d51bd4fa-1ff8-4fa9-9c33-aabe79bb035c"
      },
      "execution_count": 2,
      "outputs": [
        {
          "output_type": "stream",
          "name": "stderr",
          "text": [
            "Loading required package: ggplot2\n",
            "\n",
            "Loading required package: lattice\n",
            "\n",
            "Welcome to DALEX (version: 2.4.3).\n",
            "Find examples and detailed introduction at: http://ema.drwhy.ai/\n",
            "Additional features will be available after installation of: ggpubr.\n",
            "Use 'install_dependencies()' to get all suggested dependencies\n",
            "\n",
            "Type 'citation(\"pROC\")' for a citation.\n",
            "\n",
            "\n",
            "Attaching package: ‘pROC’\n",
            "\n",
            "\n",
            "The following objects are masked from ‘package:stats’:\n",
            "\n",
            "    cov, smooth, var\n",
            "\n",
            "\n"
          ]
        }
      ]
    },
    {
      "cell_type": "code",
      "source": [
        "COAD_norm_dataset <- read.csv(\"https://raw.githubusercontent.com/mahiiC/HackBio_Internship_2024/refs/heads/main/Stage_3%20Task/COAD_Log2Normalized_matrix.csv\", row.names = 1)\n",
        "head(COAD_norm_dataset)"
      ],
      "metadata": {
        "colab": {
          "base_uri": "https://localhost:8080/",
          "height": 306
        },
        "id": "vo59gIG3qj5U",
        "outputId": "4807955e-4be9-41ab-c058-d0c5c94edcbc"
      },
      "execution_count": 3,
      "outputs": [
        {
          "output_type": "display_data",
          "data": {
            "text/html": [
              "<table class=\"dataframe\">\n",
              "<caption>A data.frame: 6 × 40</caption>\n",
              "<thead>\n",
              "\t<tr><th></th><th scope=col>TCGA.AA.3662.11A.01R.1723.07</th><th scope=col>TCGA.AA.3531.11A.01R.A32Z.07</th><th scope=col>TCGA.AZ.6603.11A.02R.1839.07</th><th scope=col>TCGA.AZ.6599.11A.01R.1774.07</th><th scope=col>TCGA.AA.3655.11A.01R.1723.07</th><th scope=col>TCGA.A6.5665.11A.01R.1653.07</th><th scope=col>TCGA.A6.2686.11A.01R.A32Z.07</th><th scope=col>TCGA.A6.5659.11A.01R.1653.07</th><th scope=col>TCGA.A6.2684.11A.01R.A32Z.07</th><th scope=col>TCGA.AZ.6598.11A.01R.1774.07</th><th scope=col>⋯</th><th scope=col>TCGA.F4.6703.01A.11R.1839.07</th><th scope=col>TCGA.AD.6965.01A.11R.1928.07</th><th scope=col>TCGA.A6.6781.01B.06R.A277.07</th><th scope=col>TCGA.AA.A029.01A.01R.A00A.07</th><th scope=col>TCGA.AA.3510.01A.01R.1410.07</th><th scope=col>TCGA.AY.A71X.01A.12R.A37K.07</th><th scope=col>TCGA.CM.5341.01A.01R.1410.07</th><th scope=col>TCGA.F4.6809.01A.11R.1839.07</th><th scope=col>TCGA.A6.2678.01A.01R.0821.07</th><th scope=col>TCGA.A6.6653.01A.11R.1774.07</th></tr>\n",
              "\t<tr><th></th><th scope=col>&lt;dbl&gt;</th><th scope=col>&lt;dbl&gt;</th><th scope=col>&lt;dbl&gt;</th><th scope=col>&lt;dbl&gt;</th><th scope=col>&lt;dbl&gt;</th><th scope=col>&lt;dbl&gt;</th><th scope=col>&lt;dbl&gt;</th><th scope=col>&lt;dbl&gt;</th><th scope=col>&lt;dbl&gt;</th><th scope=col>&lt;dbl&gt;</th><th scope=col>⋯</th><th scope=col>&lt;dbl&gt;</th><th scope=col>&lt;dbl&gt;</th><th scope=col>&lt;dbl&gt;</th><th scope=col>&lt;dbl&gt;</th><th scope=col>&lt;dbl&gt;</th><th scope=col>&lt;dbl&gt;</th><th scope=col>&lt;dbl&gt;</th><th scope=col>&lt;dbl&gt;</th><th scope=col>&lt;dbl&gt;</th><th scope=col>&lt;dbl&gt;</th></tr>\n",
              "</thead>\n",
              "<tbody>\n",
              "\t<tr><th scope=row>ENSG00000000003</th><td>12.887411</td><td>12.755722</td><td>11.764457</td><td>12.929998</td><td>12.837037</td><td>11.843529</td><td>12.182394</td><td>11.644307</td><td>12.381273</td><td>12.580023</td><td>⋯</td><td>11.212496</td><td>12.918677</td><td>10.304922</td><td>9.677720</td><td>11.460968</td><td>12.561765</td><td>13.155134</td><td>12.827740</td><td>11.997532</td><td>11.432542</td></tr>\n",
              "\t<tr><th scope=row>ENSG00000000005</th><td> 5.087463</td><td> 5.209453</td><td> 5.044394</td><td> 4.000000</td><td> 4.954196</td><td> 5.392317</td><td> 5.781360</td><td> 5.321928</td><td> 5.491853</td><td> 5.954196</td><td>⋯</td><td> 7.794416</td><td> 6.209453</td><td> 2.321928</td><td>3.459432</td><td> 1.000000</td><td> 5.700440</td><td> 4.523562</td><td> 8.082149</td><td> 5.285402</td><td> 2.584963</td></tr>\n",
              "\t<tr><th scope=row>ENSG00000000419</th><td>10.274960</td><td>10.681238</td><td>10.101976</td><td>10.193525</td><td>10.721099</td><td> 9.961450</td><td>10.676839</td><td> 9.703904</td><td>10.221587</td><td>10.302639</td><td>⋯</td><td>10.779719</td><td>11.329796</td><td> 9.705632</td><td>8.647458</td><td> 9.238405</td><td>10.775610</td><td>11.652845</td><td>11.836839</td><td>10.623881</td><td> 9.584963</td></tr>\n",
              "\t<tr><th scope=row>ENSG00000000457</th><td> 9.764872</td><td> 9.958553</td><td> 8.980140</td><td> 9.306062</td><td> 9.562242</td><td> 9.390169</td><td> 9.954196</td><td> 8.573647</td><td> 9.544964</td><td> 9.375039</td><td>⋯</td><td> 9.905387</td><td> 9.233620</td><td> 9.129283</td><td>6.894818</td><td> 7.800900</td><td> 9.709084</td><td> 8.991522</td><td> 9.517669</td><td> 9.290019</td><td> 8.022368</td></tr>\n",
              "\t<tr><th scope=row>ENSG00000000460</th><td> 7.055282</td><td> 7.409391</td><td> 7.499846</td><td> 8.005625</td><td> 7.539159</td><td> 6.727920</td><td> 8.169925</td><td> 6.108524</td><td> 7.149747</td><td> 7.930737</td><td>⋯</td><td> 8.820179</td><td> 8.308339</td><td> 8.700440</td><td>6.321928</td><td> 7.426265</td><td> 8.584963</td><td> 8.108524</td><td> 8.330917</td><td> 8.787903</td><td> 8.285402</td></tr>\n",
              "\t<tr><th scope=row>ENSG00000000938</th><td> 8.228819</td><td> 8.672425</td><td> 9.417853</td><td> 7.948367</td><td> 7.870365</td><td> 7.426265</td><td> 8.335390</td><td> 7.087463</td><td> 7.787903</td><td> 8.682995</td><td>⋯</td><td>11.648807</td><td> 6.754888</td><td> 9.517669</td><td>4.000000</td><td> 7.918863</td><td> 5.672425</td><td> 8.233620</td><td> 9.019591</td><td> 7.442943</td><td> 7.629357</td></tr>\n",
              "</tbody>\n",
              "</table>\n"
            ],
            "text/markdown": "\nA data.frame: 6 × 40\n\n| <!--/--> | TCGA.AA.3662.11A.01R.1723.07 &lt;dbl&gt; | TCGA.AA.3531.11A.01R.A32Z.07 &lt;dbl&gt; | TCGA.AZ.6603.11A.02R.1839.07 &lt;dbl&gt; | TCGA.AZ.6599.11A.01R.1774.07 &lt;dbl&gt; | TCGA.AA.3655.11A.01R.1723.07 &lt;dbl&gt; | TCGA.A6.5665.11A.01R.1653.07 &lt;dbl&gt; | TCGA.A6.2686.11A.01R.A32Z.07 &lt;dbl&gt; | TCGA.A6.5659.11A.01R.1653.07 &lt;dbl&gt; | TCGA.A6.2684.11A.01R.A32Z.07 &lt;dbl&gt; | TCGA.AZ.6598.11A.01R.1774.07 &lt;dbl&gt; | ⋯ ⋯ | TCGA.F4.6703.01A.11R.1839.07 &lt;dbl&gt; | TCGA.AD.6965.01A.11R.1928.07 &lt;dbl&gt; | TCGA.A6.6781.01B.06R.A277.07 &lt;dbl&gt; | TCGA.AA.A029.01A.01R.A00A.07 &lt;dbl&gt; | TCGA.AA.3510.01A.01R.1410.07 &lt;dbl&gt; | TCGA.AY.A71X.01A.12R.A37K.07 &lt;dbl&gt; | TCGA.CM.5341.01A.01R.1410.07 &lt;dbl&gt; | TCGA.F4.6809.01A.11R.1839.07 &lt;dbl&gt; | TCGA.A6.2678.01A.01R.0821.07 &lt;dbl&gt; | TCGA.A6.6653.01A.11R.1774.07 &lt;dbl&gt; |\n|---|---|---|---|---|---|---|---|---|---|---|---|---|---|---|---|---|---|---|---|---|---|\n| ENSG00000000003 | 12.887411 | 12.755722 | 11.764457 | 12.929998 | 12.837037 | 11.843529 | 12.182394 | 11.644307 | 12.381273 | 12.580023 | ⋯ | 11.212496 | 12.918677 | 10.304922 | 9.677720 | 11.460968 | 12.561765 | 13.155134 | 12.827740 | 11.997532 | 11.432542 |\n| ENSG00000000005 |  5.087463 |  5.209453 |  5.044394 |  4.000000 |  4.954196 |  5.392317 |  5.781360 |  5.321928 |  5.491853 |  5.954196 | ⋯ |  7.794416 |  6.209453 |  2.321928 | 3.459432 |  1.000000 |  5.700440 |  4.523562 |  8.082149 |  5.285402 |  2.584963 |\n| ENSG00000000419 | 10.274960 | 10.681238 | 10.101976 | 10.193525 | 10.721099 |  9.961450 | 10.676839 |  9.703904 | 10.221587 | 10.302639 | ⋯ | 10.779719 | 11.329796 |  9.705632 | 8.647458 |  9.238405 | 10.775610 | 11.652845 | 11.836839 | 10.623881 |  9.584963 |\n| ENSG00000000457 |  9.764872 |  9.958553 |  8.980140 |  9.306062 |  9.562242 |  9.390169 |  9.954196 |  8.573647 |  9.544964 |  9.375039 | ⋯ |  9.905387 |  9.233620 |  9.129283 | 6.894818 |  7.800900 |  9.709084 |  8.991522 |  9.517669 |  9.290019 |  8.022368 |\n| ENSG00000000460 |  7.055282 |  7.409391 |  7.499846 |  8.005625 |  7.539159 |  6.727920 |  8.169925 |  6.108524 |  7.149747 |  7.930737 | ⋯ |  8.820179 |  8.308339 |  8.700440 | 6.321928 |  7.426265 |  8.584963 |  8.108524 |  8.330917 |  8.787903 |  8.285402 |\n| ENSG00000000938 |  8.228819 |  8.672425 |  9.417853 |  7.948367 |  7.870365 |  7.426265 |  8.335390 |  7.087463 |  7.787903 |  8.682995 | ⋯ | 11.648807 |  6.754888 |  9.517669 | 4.000000 |  7.918863 |  5.672425 |  8.233620 |  9.019591 |  7.442943 |  7.629357 |\n\n",
            "text/latex": "A data.frame: 6 × 40\n\\begin{tabular}{r|lllllllllllllllllllll}\n  & TCGA.AA.3662.11A.01R.1723.07 & TCGA.AA.3531.11A.01R.A32Z.07 & TCGA.AZ.6603.11A.02R.1839.07 & TCGA.AZ.6599.11A.01R.1774.07 & TCGA.AA.3655.11A.01R.1723.07 & TCGA.A6.5665.11A.01R.1653.07 & TCGA.A6.2686.11A.01R.A32Z.07 & TCGA.A6.5659.11A.01R.1653.07 & TCGA.A6.2684.11A.01R.A32Z.07 & TCGA.AZ.6598.11A.01R.1774.07 & ⋯ & TCGA.F4.6703.01A.11R.1839.07 & TCGA.AD.6965.01A.11R.1928.07 & TCGA.A6.6781.01B.06R.A277.07 & TCGA.AA.A029.01A.01R.A00A.07 & TCGA.AA.3510.01A.01R.1410.07 & TCGA.AY.A71X.01A.12R.A37K.07 & TCGA.CM.5341.01A.01R.1410.07 & TCGA.F4.6809.01A.11R.1839.07 & TCGA.A6.2678.01A.01R.0821.07 & TCGA.A6.6653.01A.11R.1774.07\\\\\n  & <dbl> & <dbl> & <dbl> & <dbl> & <dbl> & <dbl> & <dbl> & <dbl> & <dbl> & <dbl> & ⋯ & <dbl> & <dbl> & <dbl> & <dbl> & <dbl> & <dbl> & <dbl> & <dbl> & <dbl> & <dbl>\\\\\n\\hline\n\tENSG00000000003 & 12.887411 & 12.755722 & 11.764457 & 12.929998 & 12.837037 & 11.843529 & 12.182394 & 11.644307 & 12.381273 & 12.580023 & ⋯ & 11.212496 & 12.918677 & 10.304922 & 9.677720 & 11.460968 & 12.561765 & 13.155134 & 12.827740 & 11.997532 & 11.432542\\\\\n\tENSG00000000005 &  5.087463 &  5.209453 &  5.044394 &  4.000000 &  4.954196 &  5.392317 &  5.781360 &  5.321928 &  5.491853 &  5.954196 & ⋯ &  7.794416 &  6.209453 &  2.321928 & 3.459432 &  1.000000 &  5.700440 &  4.523562 &  8.082149 &  5.285402 &  2.584963\\\\\n\tENSG00000000419 & 10.274960 & 10.681238 & 10.101976 & 10.193525 & 10.721099 &  9.961450 & 10.676839 &  9.703904 & 10.221587 & 10.302639 & ⋯ & 10.779719 & 11.329796 &  9.705632 & 8.647458 &  9.238405 & 10.775610 & 11.652845 & 11.836839 & 10.623881 &  9.584963\\\\\n\tENSG00000000457 &  9.764872 &  9.958553 &  8.980140 &  9.306062 &  9.562242 &  9.390169 &  9.954196 &  8.573647 &  9.544964 &  9.375039 & ⋯ &  9.905387 &  9.233620 &  9.129283 & 6.894818 &  7.800900 &  9.709084 &  8.991522 &  9.517669 &  9.290019 &  8.022368\\\\\n\tENSG00000000460 &  7.055282 &  7.409391 &  7.499846 &  8.005625 &  7.539159 &  6.727920 &  8.169925 &  6.108524 &  7.149747 &  7.930737 & ⋯ &  8.820179 &  8.308339 &  8.700440 & 6.321928 &  7.426265 &  8.584963 &  8.108524 &  8.330917 &  8.787903 &  8.285402\\\\\n\tENSG00000000938 &  8.228819 &  8.672425 &  9.417853 &  7.948367 &  7.870365 &  7.426265 &  8.335390 &  7.087463 &  7.787903 &  8.682995 & ⋯ & 11.648807 &  6.754888 &  9.517669 & 4.000000 &  7.918863 &  5.672425 &  8.233620 &  9.019591 &  7.442943 &  7.629357\\\\\n\\end{tabular}\n",
            "text/plain": [
              "                TCGA.AA.3662.11A.01R.1723.07 TCGA.AA.3531.11A.01R.A32Z.07\n",
              "ENSG00000000003 12.887411                    12.755722                   \n",
              "ENSG00000000005  5.087463                     5.209453                   \n",
              "ENSG00000000419 10.274960                    10.681238                   \n",
              "ENSG00000000457  9.764872                     9.958553                   \n",
              "ENSG00000000460  7.055282                     7.409391                   \n",
              "ENSG00000000938  8.228819                     8.672425                   \n",
              "                TCGA.AZ.6603.11A.02R.1839.07 TCGA.AZ.6599.11A.01R.1774.07\n",
              "ENSG00000000003 11.764457                    12.929998                   \n",
              "ENSG00000000005  5.044394                     4.000000                   \n",
              "ENSG00000000419 10.101976                    10.193525                   \n",
              "ENSG00000000457  8.980140                     9.306062                   \n",
              "ENSG00000000460  7.499846                     8.005625                   \n",
              "ENSG00000000938  9.417853                     7.948367                   \n",
              "                TCGA.AA.3655.11A.01R.1723.07 TCGA.A6.5665.11A.01R.1653.07\n",
              "ENSG00000000003 12.837037                    11.843529                   \n",
              "ENSG00000000005  4.954196                     5.392317                   \n",
              "ENSG00000000419 10.721099                     9.961450                   \n",
              "ENSG00000000457  9.562242                     9.390169                   \n",
              "ENSG00000000460  7.539159                     6.727920                   \n",
              "ENSG00000000938  7.870365                     7.426265                   \n",
              "                TCGA.A6.2686.11A.01R.A32Z.07 TCGA.A6.5659.11A.01R.1653.07\n",
              "ENSG00000000003 12.182394                    11.644307                   \n",
              "ENSG00000000005  5.781360                     5.321928                   \n",
              "ENSG00000000419 10.676839                     9.703904                   \n",
              "ENSG00000000457  9.954196                     8.573647                   \n",
              "ENSG00000000460  8.169925                     6.108524                   \n",
              "ENSG00000000938  8.335390                     7.087463                   \n",
              "                TCGA.A6.2684.11A.01R.A32Z.07 TCGA.AZ.6598.11A.01R.1774.07 ⋯\n",
              "ENSG00000000003 12.381273                    12.580023                    ⋯\n",
              "ENSG00000000005  5.491853                     5.954196                    ⋯\n",
              "ENSG00000000419 10.221587                    10.302639                    ⋯\n",
              "ENSG00000000457  9.544964                     9.375039                    ⋯\n",
              "ENSG00000000460  7.149747                     7.930737                    ⋯\n",
              "ENSG00000000938  7.787903                     8.682995                    ⋯\n",
              "                TCGA.F4.6703.01A.11R.1839.07 TCGA.AD.6965.01A.11R.1928.07\n",
              "ENSG00000000003 11.212496                    12.918677                   \n",
              "ENSG00000000005  7.794416                     6.209453                   \n",
              "ENSG00000000419 10.779719                    11.329796                   \n",
              "ENSG00000000457  9.905387                     9.233620                   \n",
              "ENSG00000000460  8.820179                     8.308339                   \n",
              "ENSG00000000938 11.648807                     6.754888                   \n",
              "                TCGA.A6.6781.01B.06R.A277.07 TCGA.AA.A029.01A.01R.A00A.07\n",
              "ENSG00000000003 10.304922                    9.677720                    \n",
              "ENSG00000000005  2.321928                    3.459432                    \n",
              "ENSG00000000419  9.705632                    8.647458                    \n",
              "ENSG00000000457  9.129283                    6.894818                    \n",
              "ENSG00000000460  8.700440                    6.321928                    \n",
              "ENSG00000000938  9.517669                    4.000000                    \n",
              "                TCGA.AA.3510.01A.01R.1410.07 TCGA.AY.A71X.01A.12R.A37K.07\n",
              "ENSG00000000003 11.460968                    12.561765                   \n",
              "ENSG00000000005  1.000000                     5.700440                   \n",
              "ENSG00000000419  9.238405                    10.775610                   \n",
              "ENSG00000000457  7.800900                     9.709084                   \n",
              "ENSG00000000460  7.426265                     8.584963                   \n",
              "ENSG00000000938  7.918863                     5.672425                   \n",
              "                TCGA.CM.5341.01A.01R.1410.07 TCGA.F4.6809.01A.11R.1839.07\n",
              "ENSG00000000003 13.155134                    12.827740                   \n",
              "ENSG00000000005  4.523562                     8.082149                   \n",
              "ENSG00000000419 11.652845                    11.836839                   \n",
              "ENSG00000000457  8.991522                     9.517669                   \n",
              "ENSG00000000460  8.108524                     8.330917                   \n",
              "ENSG00000000938  8.233620                     9.019591                   \n",
              "                TCGA.A6.2678.01A.01R.0821.07 TCGA.A6.6653.01A.11R.1774.07\n",
              "ENSG00000000003 11.997532                    11.432542                   \n",
              "ENSG00000000005  5.285402                     2.584963                   \n",
              "ENSG00000000419 10.623881                     9.584963                   \n",
              "ENSG00000000457  9.290019                     8.022368                   \n",
              "ENSG00000000460  8.787903                     8.285402                   \n",
              "ENSG00000000938  7.442943                     7.629357                   "
            ]
          },
          "metadata": {}
        }
      ]
    },
    {
      "cell_type": "code",
      "source": [
        "COAD_metadata <- read.csv(\"https://raw.githubusercontent.com/mahiiC/HackBio_Internship_2024/refs/heads/main/Stage_3%20Task/COAD_Metadata.csv\", row.names = 1)\n",
        "head(COAD_norm_dataset)"
      ],
      "metadata": {
        "colab": {
          "base_uri": "https://localhost:8080/",
          "height": 306
        },
        "id": "qwCpFyCCaJuT",
        "outputId": "97c0a7a0-0595-4a7f-865a-73f44423d076"
      },
      "execution_count": 4,
      "outputs": [
        {
          "output_type": "display_data",
          "data": {
            "text/html": [
              "<table class=\"dataframe\">\n",
              "<caption>A data.frame: 6 × 40</caption>\n",
              "<thead>\n",
              "\t<tr><th></th><th scope=col>TCGA.AA.3662.11A.01R.1723.07</th><th scope=col>TCGA.AA.3531.11A.01R.A32Z.07</th><th scope=col>TCGA.AZ.6603.11A.02R.1839.07</th><th scope=col>TCGA.AZ.6599.11A.01R.1774.07</th><th scope=col>TCGA.AA.3655.11A.01R.1723.07</th><th scope=col>TCGA.A6.5665.11A.01R.1653.07</th><th scope=col>TCGA.A6.2686.11A.01R.A32Z.07</th><th scope=col>TCGA.A6.5659.11A.01R.1653.07</th><th scope=col>TCGA.A6.2684.11A.01R.A32Z.07</th><th scope=col>TCGA.AZ.6598.11A.01R.1774.07</th><th scope=col>⋯</th><th scope=col>TCGA.F4.6703.01A.11R.1839.07</th><th scope=col>TCGA.AD.6965.01A.11R.1928.07</th><th scope=col>TCGA.A6.6781.01B.06R.A277.07</th><th scope=col>TCGA.AA.A029.01A.01R.A00A.07</th><th scope=col>TCGA.AA.3510.01A.01R.1410.07</th><th scope=col>TCGA.AY.A71X.01A.12R.A37K.07</th><th scope=col>TCGA.CM.5341.01A.01R.1410.07</th><th scope=col>TCGA.F4.6809.01A.11R.1839.07</th><th scope=col>TCGA.A6.2678.01A.01R.0821.07</th><th scope=col>TCGA.A6.6653.01A.11R.1774.07</th></tr>\n",
              "\t<tr><th></th><th scope=col>&lt;dbl&gt;</th><th scope=col>&lt;dbl&gt;</th><th scope=col>&lt;dbl&gt;</th><th scope=col>&lt;dbl&gt;</th><th scope=col>&lt;dbl&gt;</th><th scope=col>&lt;dbl&gt;</th><th scope=col>&lt;dbl&gt;</th><th scope=col>&lt;dbl&gt;</th><th scope=col>&lt;dbl&gt;</th><th scope=col>&lt;dbl&gt;</th><th scope=col>⋯</th><th scope=col>&lt;dbl&gt;</th><th scope=col>&lt;dbl&gt;</th><th scope=col>&lt;dbl&gt;</th><th scope=col>&lt;dbl&gt;</th><th scope=col>&lt;dbl&gt;</th><th scope=col>&lt;dbl&gt;</th><th scope=col>&lt;dbl&gt;</th><th scope=col>&lt;dbl&gt;</th><th scope=col>&lt;dbl&gt;</th><th scope=col>&lt;dbl&gt;</th></tr>\n",
              "</thead>\n",
              "<tbody>\n",
              "\t<tr><th scope=row>ENSG00000000003</th><td>12.887411</td><td>12.755722</td><td>11.764457</td><td>12.929998</td><td>12.837037</td><td>11.843529</td><td>12.182394</td><td>11.644307</td><td>12.381273</td><td>12.580023</td><td>⋯</td><td>11.212496</td><td>12.918677</td><td>10.304922</td><td>9.677720</td><td>11.460968</td><td>12.561765</td><td>13.155134</td><td>12.827740</td><td>11.997532</td><td>11.432542</td></tr>\n",
              "\t<tr><th scope=row>ENSG00000000005</th><td> 5.087463</td><td> 5.209453</td><td> 5.044394</td><td> 4.000000</td><td> 4.954196</td><td> 5.392317</td><td> 5.781360</td><td> 5.321928</td><td> 5.491853</td><td> 5.954196</td><td>⋯</td><td> 7.794416</td><td> 6.209453</td><td> 2.321928</td><td>3.459432</td><td> 1.000000</td><td> 5.700440</td><td> 4.523562</td><td> 8.082149</td><td> 5.285402</td><td> 2.584963</td></tr>\n",
              "\t<tr><th scope=row>ENSG00000000419</th><td>10.274960</td><td>10.681238</td><td>10.101976</td><td>10.193525</td><td>10.721099</td><td> 9.961450</td><td>10.676839</td><td> 9.703904</td><td>10.221587</td><td>10.302639</td><td>⋯</td><td>10.779719</td><td>11.329796</td><td> 9.705632</td><td>8.647458</td><td> 9.238405</td><td>10.775610</td><td>11.652845</td><td>11.836839</td><td>10.623881</td><td> 9.584963</td></tr>\n",
              "\t<tr><th scope=row>ENSG00000000457</th><td> 9.764872</td><td> 9.958553</td><td> 8.980140</td><td> 9.306062</td><td> 9.562242</td><td> 9.390169</td><td> 9.954196</td><td> 8.573647</td><td> 9.544964</td><td> 9.375039</td><td>⋯</td><td> 9.905387</td><td> 9.233620</td><td> 9.129283</td><td>6.894818</td><td> 7.800900</td><td> 9.709084</td><td> 8.991522</td><td> 9.517669</td><td> 9.290019</td><td> 8.022368</td></tr>\n",
              "\t<tr><th scope=row>ENSG00000000460</th><td> 7.055282</td><td> 7.409391</td><td> 7.499846</td><td> 8.005625</td><td> 7.539159</td><td> 6.727920</td><td> 8.169925</td><td> 6.108524</td><td> 7.149747</td><td> 7.930737</td><td>⋯</td><td> 8.820179</td><td> 8.308339</td><td> 8.700440</td><td>6.321928</td><td> 7.426265</td><td> 8.584963</td><td> 8.108524</td><td> 8.330917</td><td> 8.787903</td><td> 8.285402</td></tr>\n",
              "\t<tr><th scope=row>ENSG00000000938</th><td> 8.228819</td><td> 8.672425</td><td> 9.417853</td><td> 7.948367</td><td> 7.870365</td><td> 7.426265</td><td> 8.335390</td><td> 7.087463</td><td> 7.787903</td><td> 8.682995</td><td>⋯</td><td>11.648807</td><td> 6.754888</td><td> 9.517669</td><td>4.000000</td><td> 7.918863</td><td> 5.672425</td><td> 8.233620</td><td> 9.019591</td><td> 7.442943</td><td> 7.629357</td></tr>\n",
              "</tbody>\n",
              "</table>\n"
            ],
            "text/markdown": "\nA data.frame: 6 × 40\n\n| <!--/--> | TCGA.AA.3662.11A.01R.1723.07 &lt;dbl&gt; | TCGA.AA.3531.11A.01R.A32Z.07 &lt;dbl&gt; | TCGA.AZ.6603.11A.02R.1839.07 &lt;dbl&gt; | TCGA.AZ.6599.11A.01R.1774.07 &lt;dbl&gt; | TCGA.AA.3655.11A.01R.1723.07 &lt;dbl&gt; | TCGA.A6.5665.11A.01R.1653.07 &lt;dbl&gt; | TCGA.A6.2686.11A.01R.A32Z.07 &lt;dbl&gt; | TCGA.A6.5659.11A.01R.1653.07 &lt;dbl&gt; | TCGA.A6.2684.11A.01R.A32Z.07 &lt;dbl&gt; | TCGA.AZ.6598.11A.01R.1774.07 &lt;dbl&gt; | ⋯ ⋯ | TCGA.F4.6703.01A.11R.1839.07 &lt;dbl&gt; | TCGA.AD.6965.01A.11R.1928.07 &lt;dbl&gt; | TCGA.A6.6781.01B.06R.A277.07 &lt;dbl&gt; | TCGA.AA.A029.01A.01R.A00A.07 &lt;dbl&gt; | TCGA.AA.3510.01A.01R.1410.07 &lt;dbl&gt; | TCGA.AY.A71X.01A.12R.A37K.07 &lt;dbl&gt; | TCGA.CM.5341.01A.01R.1410.07 &lt;dbl&gt; | TCGA.F4.6809.01A.11R.1839.07 &lt;dbl&gt; | TCGA.A6.2678.01A.01R.0821.07 &lt;dbl&gt; | TCGA.A6.6653.01A.11R.1774.07 &lt;dbl&gt; |\n|---|---|---|---|---|---|---|---|---|---|---|---|---|---|---|---|---|---|---|---|---|---|\n| ENSG00000000003 | 12.887411 | 12.755722 | 11.764457 | 12.929998 | 12.837037 | 11.843529 | 12.182394 | 11.644307 | 12.381273 | 12.580023 | ⋯ | 11.212496 | 12.918677 | 10.304922 | 9.677720 | 11.460968 | 12.561765 | 13.155134 | 12.827740 | 11.997532 | 11.432542 |\n| ENSG00000000005 |  5.087463 |  5.209453 |  5.044394 |  4.000000 |  4.954196 |  5.392317 |  5.781360 |  5.321928 |  5.491853 |  5.954196 | ⋯ |  7.794416 |  6.209453 |  2.321928 | 3.459432 |  1.000000 |  5.700440 |  4.523562 |  8.082149 |  5.285402 |  2.584963 |\n| ENSG00000000419 | 10.274960 | 10.681238 | 10.101976 | 10.193525 | 10.721099 |  9.961450 | 10.676839 |  9.703904 | 10.221587 | 10.302639 | ⋯ | 10.779719 | 11.329796 |  9.705632 | 8.647458 |  9.238405 | 10.775610 | 11.652845 | 11.836839 | 10.623881 |  9.584963 |\n| ENSG00000000457 |  9.764872 |  9.958553 |  8.980140 |  9.306062 |  9.562242 |  9.390169 |  9.954196 |  8.573647 |  9.544964 |  9.375039 | ⋯ |  9.905387 |  9.233620 |  9.129283 | 6.894818 |  7.800900 |  9.709084 |  8.991522 |  9.517669 |  9.290019 |  8.022368 |\n| ENSG00000000460 |  7.055282 |  7.409391 |  7.499846 |  8.005625 |  7.539159 |  6.727920 |  8.169925 |  6.108524 |  7.149747 |  7.930737 | ⋯ |  8.820179 |  8.308339 |  8.700440 | 6.321928 |  7.426265 |  8.584963 |  8.108524 |  8.330917 |  8.787903 |  8.285402 |\n| ENSG00000000938 |  8.228819 |  8.672425 |  9.417853 |  7.948367 |  7.870365 |  7.426265 |  8.335390 |  7.087463 |  7.787903 |  8.682995 | ⋯ | 11.648807 |  6.754888 |  9.517669 | 4.000000 |  7.918863 |  5.672425 |  8.233620 |  9.019591 |  7.442943 |  7.629357 |\n\n",
            "text/latex": "A data.frame: 6 × 40\n\\begin{tabular}{r|lllllllllllllllllllll}\n  & TCGA.AA.3662.11A.01R.1723.07 & TCGA.AA.3531.11A.01R.A32Z.07 & TCGA.AZ.6603.11A.02R.1839.07 & TCGA.AZ.6599.11A.01R.1774.07 & TCGA.AA.3655.11A.01R.1723.07 & TCGA.A6.5665.11A.01R.1653.07 & TCGA.A6.2686.11A.01R.A32Z.07 & TCGA.A6.5659.11A.01R.1653.07 & TCGA.A6.2684.11A.01R.A32Z.07 & TCGA.AZ.6598.11A.01R.1774.07 & ⋯ & TCGA.F4.6703.01A.11R.1839.07 & TCGA.AD.6965.01A.11R.1928.07 & TCGA.A6.6781.01B.06R.A277.07 & TCGA.AA.A029.01A.01R.A00A.07 & TCGA.AA.3510.01A.01R.1410.07 & TCGA.AY.A71X.01A.12R.A37K.07 & TCGA.CM.5341.01A.01R.1410.07 & TCGA.F4.6809.01A.11R.1839.07 & TCGA.A6.2678.01A.01R.0821.07 & TCGA.A6.6653.01A.11R.1774.07\\\\\n  & <dbl> & <dbl> & <dbl> & <dbl> & <dbl> & <dbl> & <dbl> & <dbl> & <dbl> & <dbl> & ⋯ & <dbl> & <dbl> & <dbl> & <dbl> & <dbl> & <dbl> & <dbl> & <dbl> & <dbl> & <dbl>\\\\\n\\hline\n\tENSG00000000003 & 12.887411 & 12.755722 & 11.764457 & 12.929998 & 12.837037 & 11.843529 & 12.182394 & 11.644307 & 12.381273 & 12.580023 & ⋯ & 11.212496 & 12.918677 & 10.304922 & 9.677720 & 11.460968 & 12.561765 & 13.155134 & 12.827740 & 11.997532 & 11.432542\\\\\n\tENSG00000000005 &  5.087463 &  5.209453 &  5.044394 &  4.000000 &  4.954196 &  5.392317 &  5.781360 &  5.321928 &  5.491853 &  5.954196 & ⋯ &  7.794416 &  6.209453 &  2.321928 & 3.459432 &  1.000000 &  5.700440 &  4.523562 &  8.082149 &  5.285402 &  2.584963\\\\\n\tENSG00000000419 & 10.274960 & 10.681238 & 10.101976 & 10.193525 & 10.721099 &  9.961450 & 10.676839 &  9.703904 & 10.221587 & 10.302639 & ⋯ & 10.779719 & 11.329796 &  9.705632 & 8.647458 &  9.238405 & 10.775610 & 11.652845 & 11.836839 & 10.623881 &  9.584963\\\\\n\tENSG00000000457 &  9.764872 &  9.958553 &  8.980140 &  9.306062 &  9.562242 &  9.390169 &  9.954196 &  8.573647 &  9.544964 &  9.375039 & ⋯ &  9.905387 &  9.233620 &  9.129283 & 6.894818 &  7.800900 &  9.709084 &  8.991522 &  9.517669 &  9.290019 &  8.022368\\\\\n\tENSG00000000460 &  7.055282 &  7.409391 &  7.499846 &  8.005625 &  7.539159 &  6.727920 &  8.169925 &  6.108524 &  7.149747 &  7.930737 & ⋯ &  8.820179 &  8.308339 &  8.700440 & 6.321928 &  7.426265 &  8.584963 &  8.108524 &  8.330917 &  8.787903 &  8.285402\\\\\n\tENSG00000000938 &  8.228819 &  8.672425 &  9.417853 &  7.948367 &  7.870365 &  7.426265 &  8.335390 &  7.087463 &  7.787903 &  8.682995 & ⋯ & 11.648807 &  6.754888 &  9.517669 & 4.000000 &  7.918863 &  5.672425 &  8.233620 &  9.019591 &  7.442943 &  7.629357\\\\\n\\end{tabular}\n",
            "text/plain": [
              "                TCGA.AA.3662.11A.01R.1723.07 TCGA.AA.3531.11A.01R.A32Z.07\n",
              "ENSG00000000003 12.887411                    12.755722                   \n",
              "ENSG00000000005  5.087463                     5.209453                   \n",
              "ENSG00000000419 10.274960                    10.681238                   \n",
              "ENSG00000000457  9.764872                     9.958553                   \n",
              "ENSG00000000460  7.055282                     7.409391                   \n",
              "ENSG00000000938  8.228819                     8.672425                   \n",
              "                TCGA.AZ.6603.11A.02R.1839.07 TCGA.AZ.6599.11A.01R.1774.07\n",
              "ENSG00000000003 11.764457                    12.929998                   \n",
              "ENSG00000000005  5.044394                     4.000000                   \n",
              "ENSG00000000419 10.101976                    10.193525                   \n",
              "ENSG00000000457  8.980140                     9.306062                   \n",
              "ENSG00000000460  7.499846                     8.005625                   \n",
              "ENSG00000000938  9.417853                     7.948367                   \n",
              "                TCGA.AA.3655.11A.01R.1723.07 TCGA.A6.5665.11A.01R.1653.07\n",
              "ENSG00000000003 12.837037                    11.843529                   \n",
              "ENSG00000000005  4.954196                     5.392317                   \n",
              "ENSG00000000419 10.721099                     9.961450                   \n",
              "ENSG00000000457  9.562242                     9.390169                   \n",
              "ENSG00000000460  7.539159                     6.727920                   \n",
              "ENSG00000000938  7.870365                     7.426265                   \n",
              "                TCGA.A6.2686.11A.01R.A32Z.07 TCGA.A6.5659.11A.01R.1653.07\n",
              "ENSG00000000003 12.182394                    11.644307                   \n",
              "ENSG00000000005  5.781360                     5.321928                   \n",
              "ENSG00000000419 10.676839                     9.703904                   \n",
              "ENSG00000000457  9.954196                     8.573647                   \n",
              "ENSG00000000460  8.169925                     6.108524                   \n",
              "ENSG00000000938  8.335390                     7.087463                   \n",
              "                TCGA.A6.2684.11A.01R.A32Z.07 TCGA.AZ.6598.11A.01R.1774.07 ⋯\n",
              "ENSG00000000003 12.381273                    12.580023                    ⋯\n",
              "ENSG00000000005  5.491853                     5.954196                    ⋯\n",
              "ENSG00000000419 10.221587                    10.302639                    ⋯\n",
              "ENSG00000000457  9.544964                     9.375039                    ⋯\n",
              "ENSG00000000460  7.149747                     7.930737                    ⋯\n",
              "ENSG00000000938  7.787903                     8.682995                    ⋯\n",
              "                TCGA.F4.6703.01A.11R.1839.07 TCGA.AD.6965.01A.11R.1928.07\n",
              "ENSG00000000003 11.212496                    12.918677                   \n",
              "ENSG00000000005  7.794416                     6.209453                   \n",
              "ENSG00000000419 10.779719                    11.329796                   \n",
              "ENSG00000000457  9.905387                     9.233620                   \n",
              "ENSG00000000460  8.820179                     8.308339                   \n",
              "ENSG00000000938 11.648807                     6.754888                   \n",
              "                TCGA.A6.6781.01B.06R.A277.07 TCGA.AA.A029.01A.01R.A00A.07\n",
              "ENSG00000000003 10.304922                    9.677720                    \n",
              "ENSG00000000005  2.321928                    3.459432                    \n",
              "ENSG00000000419  9.705632                    8.647458                    \n",
              "ENSG00000000457  9.129283                    6.894818                    \n",
              "ENSG00000000460  8.700440                    6.321928                    \n",
              "ENSG00000000938  9.517669                    4.000000                    \n",
              "                TCGA.AA.3510.01A.01R.1410.07 TCGA.AY.A71X.01A.12R.A37K.07\n",
              "ENSG00000000003 11.460968                    12.561765                   \n",
              "ENSG00000000005  1.000000                     5.700440                   \n",
              "ENSG00000000419  9.238405                    10.775610                   \n",
              "ENSG00000000457  7.800900                     9.709084                   \n",
              "ENSG00000000460  7.426265                     8.584963                   \n",
              "ENSG00000000938  7.918863                     5.672425                   \n",
              "                TCGA.CM.5341.01A.01R.1410.07 TCGA.F4.6809.01A.11R.1839.07\n",
              "ENSG00000000003 13.155134                    12.827740                   \n",
              "ENSG00000000005  4.523562                     8.082149                   \n",
              "ENSG00000000419 11.652845                    11.836839                   \n",
              "ENSG00000000457  8.991522                     9.517669                   \n",
              "ENSG00000000460  8.108524                     8.330917                   \n",
              "ENSG00000000938  8.233620                     9.019591                   \n",
              "                TCGA.A6.2678.01A.01R.0821.07 TCGA.A6.6653.01A.11R.1774.07\n",
              "ENSG00000000003 11.997532                    11.432542                   \n",
              "ENSG00000000005  5.285402                     2.584963                   \n",
              "ENSG00000000419 10.623881                     9.584963                   \n",
              "ENSG00000000457  9.290019                     8.022368                   \n",
              "ENSG00000000460  8.787903                     8.285402                   \n",
              "ENSG00000000938  7.442943                     7.629357                   "
            ]
          },
          "metadata": {}
        }
      ]
    },
    {
      "cell_type": "code",
      "source": [
        "# Making sure the column names in TCGA_COAD_dataset matches the rownames in TCGA_COAD_metadata\n",
        "all(colnames(COAD_norm_dataset) %in% rownames(COAD_metadata))"
      ],
      "metadata": {
        "colab": {
          "base_uri": "https://localhost:8080/",
          "height": 34
        },
        "id": "5JuOXi7axEb_",
        "outputId": "6c33e4fa-dc0b-423b-c983-c595628bcd1c"
      },
      "execution_count": 5,
      "outputs": [
        {
          "output_type": "display_data",
          "data": {
            "text/html": [
              "TRUE"
            ],
            "text/markdown": "TRUE",
            "text/latex": "TRUE",
            "text/plain": [
              "[1] TRUE"
            ]
          },
          "metadata": {}
        }
      ]
    },
    {
      "cell_type": "code",
      "source": [
        "# Making sure the column names in TCGA_COAD_dataset are in the same order as the rownames in TCGA_COAD_metadata\n",
        "all(colnames(COAD_norm_dataset) == rownames(COAD_metadata))"
      ],
      "metadata": {
        "colab": {
          "base_uri": "https://localhost:8080/",
          "height": 34
        },
        "id": "lR9TSXX5xd0i",
        "outputId": "c398c8bc-756f-4054-a954-03c939ebbde0"
      },
      "execution_count": 6,
      "outputs": [
        {
          "output_type": "display_data",
          "data": {
            "text/html": [
              "TRUE"
            ],
            "text/markdown": "TRUE",
            "text/latex": "TRUE",
            "text/plain": [
              "[1] TRUE"
            ]
          },
          "metadata": {}
        }
      ]
    },
    {
      "cell_type": "code",
      "source": [
        "set.seed(12345)"
      ],
      "metadata": {
        "id": "7WFqECor94TF"
      },
      "execution_count": 7,
      "outputs": []
    },
    {
      "cell_type": "code",
      "source": [
        "table(COAD_metadata$sample_type)"
      ],
      "metadata": {
        "colab": {
          "base_uri": "https://localhost:8080/",
          "height": 69
        },
        "id": "tjVzpO1g54zo",
        "outputId": "968a3bcc-b9a7-4763-dc73-6879ce2ec096"
      },
      "execution_count": 8,
      "outputs": [
        {
          "output_type": "display_data",
          "data": {
            "text/plain": [
              "\n",
              "      Primary Tumor Solid Tissue Normal \n",
              "                 20                  20 "
            ]
          },
          "metadata": {}
        }
      ]
    },
    {
      "cell_type": "code",
      "source": [
        "#preview filtered normalized data\n",
        "par(mar = c(8,2,1,1))\n",
        "boxplot(COAD_norm_dataset, las = 2, cex.axis = 0.5)"
      ],
      "metadata": {
        "colab": {
          "base_uri": "https://localhost:8080/",
          "height": 437
        },
        "collapsed": true,
        "id": "SVX04iaW6A_L",
        "outputId": "052b9adb-413f-4c6a-fb0a-52bfe3ea56cb"
      },
      "execution_count": 9,
      "outputs": [
        {
          "output_type": "display_data",
          "data": {
            "text/plain": [
              "plot without title"
            ],
            "image/png": "[encoded data removed]"
          },
          "metadata": {
            "image/png": {
              "width": 420,
              "height": 420
            }
          }
        }
      ]
    },
    {
      "cell_type": "markdown",
      "source": [
        "### **Data Preprocessing for ML**"
      ],
      "metadata": {
        "id": "EpeC3H02J5HR"
      }
    },
    {
      "cell_type": "code",
      "source": [
        "# selecting the top 1000 variable genes\n",
        "data_trans <- data.frame(t(COAD_norm_dataset))\n",
        "sds <- apply(data_trans, 2, sd) #standard deviation\n",
        "top_preds <- order(sds, decreasing = T)[1:8000]\n",
        "data_trans <- data_trans[, top_preds]\n",
        "dim(data_trans)"
      ],
      "metadata": {
        "colab": {
          "base_uri": "https://localhost:8080/",
          "height": 34
        },
        "id": "2IwLOdCfB2Ey",
        "outputId": "dff804e9-18f2-4199-ba89-9dbf898f152c"
      },
      "execution_count": 10,
      "outputs": [
        {
          "output_type": "display_data",
          "data": {
            "text/html": [
              "<style>\n",
              ".list-inline {list-style: none; margin:0; padding: 0}\n",
              ".list-inline>li {display: inline-block}\n",
              ".list-inline>li:not(:last-child)::after {content: \"\\00b7\"; padding: 0 .5ex}\n",
              "</style>\n",
              "<ol class=list-inline><li>40</li><li>8000</li></ol>\n"
            ],
            "text/markdown": "1. 40\n2. 8000\n\n\n",
            "text/latex": "\\begin{enumerate*}\n\\item 40\n\\item 8000\n\\end{enumerate*}\n",
            "text/plain": [
              "[1]   40 8000"
            ]
          },
          "metadata": {}
        }
      ]
    },
    {
      "cell_type": "code",
      "source": [
        "head(data_trans)"
      ],
      "metadata": {
        "colab": {
          "base_uri": "https://localhost:8080/",
          "height": 306
        },
        "id": "xA6GnyMuDJbV",
        "outputId": "79a27324-34aa-48ec-ba77-e439aec9e335"
      },
      "execution_count": 11,
      "outputs": [
        {
          "output_type": "display_data",
          "data": {
            "text/html": [
              "<table class=\"dataframe\">\n",
              "<caption>A data.frame: 6 × 8000</caption>\n",
              "<thead>\n",
              "\t<tr><th></th><th scope=col>ENSG00000103375</th><th scope=col>ENSG00000183034</th><th scope=col>ENSG00000133742</th><th scope=col>ENSG00000071203</th><th scope=col>ENSG00000182271</th><th scope=col>ENSG00000174992</th><th scope=col>ENSG00000129824</th><th scope=col>ENSG00000197888</th><th scope=col>ENSG00000016602</th><th scope=col>ENSG00000067048</th><th scope=col>⋯</th><th scope=col>ENSG00000227295</th><th scope=col>ENSG00000285572</th><th scope=col>ENSG00000188460</th><th scope=col>ENSG00000280927</th><th scope=col>ENSG00000254750</th><th scope=col>ENSG00000225342</th><th scope=col>ENSG00000228264</th><th scope=col>ENSG00000207751</th><th scope=col>ENSG00000275155</th><th scope=col>ENSG00000288032</th></tr>\n",
              "\t<tr><th></th><th scope=col>&lt;dbl&gt;</th><th scope=col>&lt;dbl&gt;</th><th scope=col>&lt;dbl&gt;</th><th scope=col>&lt;dbl&gt;</th><th scope=col>&lt;dbl&gt;</th><th scope=col>&lt;dbl&gt;</th><th scope=col>&lt;dbl&gt;</th><th scope=col>&lt;dbl&gt;</th><th scope=col>&lt;dbl&gt;</th><th scope=col>&lt;dbl&gt;</th><th scope=col>⋯</th><th scope=col>&lt;dbl&gt;</th><th scope=col>&lt;dbl&gt;</th><th scope=col>&lt;dbl&gt;</th><th scope=col>&lt;dbl&gt;</th><th scope=col>&lt;dbl&gt;</th><th scope=col>&lt;dbl&gt;</th><th scope=col>&lt;dbl&gt;</th><th scope=col>&lt;dbl&gt;</th><th scope=col>&lt;dbl&gt;</th><th scope=col>&lt;dbl&gt;</th></tr>\n",
              "</thead>\n",
              "<tbody>\n",
              "\t<tr><th scope=row>TCGA.AA.3662.11A.01R.1723.07</th><td>12.854089</td><td>10.975848</td><td>16.92844</td><td>13.20915</td><td>11.65642</td><td>16.80979</td><td> 3.584963</td><td>13.51237</td><td>12.51002</td><td> 1.000000</td><td>⋯</td><td>3.906891</td><td>2.807355</td><td>1.584963</td><td>4.954196</td><td>1.584963</td><td>3.584963</td><td>1.000000</td><td>0.000000</td><td>3.169925</td><td>0.000000</td></tr>\n",
              "\t<tr><th scope=row>TCGA.AA.3531.11A.01R.A32Z.07</th><td>16.962162</td><td>14.114312</td><td>16.93964</td><td>14.29992</td><td>14.09267</td><td>16.72263</td><td> 4.000000</td><td>15.47352</td><td>17.43851</td><td> 2.321928</td><td>⋯</td><td>4.906891</td><td>2.584963</td><td>4.321928</td><td>5.285402</td><td>1.584963</td><td>3.584963</td><td>1.584963</td><td>0.000000</td><td>2.807355</td><td>0.000000</td></tr>\n",
              "\t<tr><th scope=row>TCGA.AZ.6603.11A.02R.1839.07</th><td> 5.491853</td><td> 8.011227</td><td>10.45327</td><td>12.02652</td><td> 8.98014</td><td>14.02185</td><td> 2.584963</td><td>12.52013</td><td>13.20472</td><td> 0.000000</td><td>⋯</td><td>3.584963</td><td>3.807355</td><td>3.584963</td><td>5.459432</td><td>4.000000</td><td>4.584963</td><td>0.000000</td><td>0.000000</td><td>3.169925</td><td>1.584963</td></tr>\n",
              "\t<tr><th scope=row>TCGA.AZ.6599.11A.01R.1774.07</th><td>11.864960</td><td>10.893302</td><td>14.84794</td><td>11.58214</td><td>11.52013</td><td>15.93238</td><td>12.782589</td><td>16.10364</td><td>15.68702</td><td>11.209453</td><td>⋯</td><td>3.169925</td><td>3.906891</td><td>4.321928</td><td>6.247928</td><td>0.000000</td><td>3.700440</td><td>2.321928</td><td>1.584963</td><td>3.169925</td><td>0.000000</td></tr>\n",
              "\t<tr><th scope=row>TCGA.AA.3655.11A.01R.1723.07</th><td>14.265249</td><td>11.318543</td><td>17.01345</td><td>14.16554</td><td>12.84882</td><td>17.18153</td><td>13.535518</td><td> 2.00000</td><td>13.48457</td><td>10.618386</td><td>⋯</td><td>3.700440</td><td>0.000000</td><td>1.584963</td><td>5.087463</td><td>3.459432</td><td>3.584963</td><td>0.000000</td><td>0.000000</td><td>2.321928</td><td>0.000000</td></tr>\n",
              "\t<tr><th scope=row>TCGA.A6.5665.11A.01R.1653.07</th><td>17.707089</td><td>13.068946</td><td>16.58915</td><td>15.02523</td><td>12.87479</td><td>15.22147</td><td> 3.906891</td><td>14.09992</td><td>16.99093</td><td> 3.321928</td><td>⋯</td><td>2.000000</td><td>3.000000</td><td>3.000000</td><td>6.228819</td><td>2.000000</td><td>2.000000</td><td>2.000000</td><td>0.000000</td><td>2.321928</td><td>0.000000</td></tr>\n",
              "</tbody>\n",
              "</table>\n"
            ],
            "text/markdown": "\nA data.frame: 6 × 8000\n\n| <!--/--> | ENSG00000103375 &lt;dbl&gt; | ENSG00000183034 &lt;dbl&gt; | ENSG00000133742 &lt;dbl&gt; | ENSG00000071203 &lt;dbl&gt; | ENSG00000182271 &lt;dbl&gt; | ENSG00000174992 &lt;dbl&gt; | ENSG00000129824 &lt;dbl&gt; | ENSG00000197888 &lt;dbl&gt; | ENSG00000016602 &lt;dbl&gt; | ENSG00000067048 &lt;dbl&gt; | ⋯ ⋯ | ENSG00000227295 &lt;dbl&gt; | ENSG00000285572 &lt;dbl&gt; | ENSG00000188460 &lt;dbl&gt; | ENSG00000280927 &lt;dbl&gt; | ENSG00000254750 &lt;dbl&gt; | ENSG00000225342 &lt;dbl&gt; | ENSG00000228264 &lt;dbl&gt; | ENSG00000207751 &lt;dbl&gt; | ENSG00000275155 &lt;dbl&gt; | ENSG00000288032 &lt;dbl&gt; |\n|---|---|---|---|---|---|---|---|---|---|---|---|---|---|---|---|---|---|---|---|---|---|\n| TCGA.AA.3662.11A.01R.1723.07 | 12.854089 | 10.975848 | 16.92844 | 13.20915 | 11.65642 | 16.80979 |  3.584963 | 13.51237 | 12.51002 |  1.000000 | ⋯ | 3.906891 | 2.807355 | 1.584963 | 4.954196 | 1.584963 | 3.584963 | 1.000000 | 0.000000 | 3.169925 | 0.000000 |\n| TCGA.AA.3531.11A.01R.A32Z.07 | 16.962162 | 14.114312 | 16.93964 | 14.29992 | 14.09267 | 16.72263 |  4.000000 | 15.47352 | 17.43851 |  2.321928 | ⋯ | 4.906891 | 2.584963 | 4.321928 | 5.285402 | 1.584963 | 3.584963 | 1.584963 | 0.000000 | 2.807355 | 0.000000 |\n| TCGA.AZ.6603.11A.02R.1839.07 |  5.491853 |  8.011227 | 10.45327 | 12.02652 |  8.98014 | 14.02185 |  2.584963 | 12.52013 | 13.20472 |  0.000000 | ⋯ | 3.584963 | 3.807355 | 3.584963 | 5.459432 | 4.000000 | 4.584963 | 0.000000 | 0.000000 | 3.169925 | 1.584963 |\n| TCGA.AZ.6599.11A.01R.1774.07 | 11.864960 | 10.893302 | 14.84794 | 11.58214 | 11.52013 | 15.93238 | 12.782589 | 16.10364 | 15.68702 | 11.209453 | ⋯ | 3.169925 | 3.906891 | 4.321928 | 6.247928 | 0.000000 | 3.700440 | 2.321928 | 1.584963 | 3.169925 | 0.000000 |\n| TCGA.AA.3655.11A.01R.1723.07 | 14.265249 | 11.318543 | 17.01345 | 14.16554 | 12.84882 | 17.18153 | 13.535518 |  2.00000 | 13.48457 | 10.618386 | ⋯ | 3.700440 | 0.000000 | 1.584963 | 5.087463 | 3.459432 | 3.584963 | 0.000000 | 0.000000 | 2.321928 | 0.000000 |\n| TCGA.A6.5665.11A.01R.1653.07 | 17.707089 | 13.068946 | 16.58915 | 15.02523 | 12.87479 | 15.22147 |  3.906891 | 14.09992 | 16.99093 |  3.321928 | ⋯ | 2.000000 | 3.000000 | 3.000000 | 6.228819 | 2.000000 | 2.000000 | 2.000000 | 0.000000 | 2.321928 | 0.000000 |\n\n",
            "text/latex": "A data.frame: 6 × 8000\n\\begin{tabular}{r|lllllllllllllllllllll}\n  & ENSG00000103375 & ENSG00000183034 & ENSG00000133742 & ENSG00000071203 & ENSG00000182271 & ENSG00000174992 & ENSG00000129824 & ENSG00000197888 & ENSG00000016602 & ENSG00000067048 & ⋯ & ENSG00000227295 & ENSG00000285572 & ENSG00000188460 & ENSG00000280927 & ENSG00000254750 & ENSG00000225342 & ENSG00000228264 & ENSG00000207751 & ENSG00000275155 & ENSG00000288032\\\\\n  & <dbl> & <dbl> & <dbl> & <dbl> & <dbl> & <dbl> & <dbl> & <dbl> & <dbl> & <dbl> & ⋯ & <dbl> & <dbl> & <dbl> & <dbl> & <dbl> & <dbl> & <dbl> & <dbl> & <dbl> & <dbl>\\\\\n\\hline\n\tTCGA.AA.3662.11A.01R.1723.07 & 12.854089 & 10.975848 & 16.92844 & 13.20915 & 11.65642 & 16.80979 &  3.584963 & 13.51237 & 12.51002 &  1.000000 & ⋯ & 3.906891 & 2.807355 & 1.584963 & 4.954196 & 1.584963 & 3.584963 & 1.000000 & 0.000000 & 3.169925 & 0.000000\\\\\n\tTCGA.AA.3531.11A.01R.A32Z.07 & 16.962162 & 14.114312 & 16.93964 & 14.29992 & 14.09267 & 16.72263 &  4.000000 & 15.47352 & 17.43851 &  2.321928 & ⋯ & 4.906891 & 2.584963 & 4.321928 & 5.285402 & 1.584963 & 3.584963 & 1.584963 & 0.000000 & 2.807355 & 0.000000\\\\\n\tTCGA.AZ.6603.11A.02R.1839.07 &  5.491853 &  8.011227 & 10.45327 & 12.02652 &  8.98014 & 14.02185 &  2.584963 & 12.52013 & 13.20472 &  0.000000 & ⋯ & 3.584963 & 3.807355 & 3.584963 & 5.459432 & 4.000000 & 4.584963 & 0.000000 & 0.000000 & 3.169925 & 1.584963\\\\\n\tTCGA.AZ.6599.11A.01R.1774.07 & 11.864960 & 10.893302 & 14.84794 & 11.58214 & 11.52013 & 15.93238 & 12.782589 & 16.10364 & 15.68702 & 11.209453 & ⋯ & 3.169925 & 3.906891 & 4.321928 & 6.247928 & 0.000000 & 3.700440 & 2.321928 & 1.584963 & 3.169925 & 0.000000\\\\\n\tTCGA.AA.3655.11A.01R.1723.07 & 14.265249 & 11.318543 & 17.01345 & 14.16554 & 12.84882 & 17.18153 & 13.535518 &  2.00000 & 13.48457 & 10.618386 & ⋯ & 3.700440 & 0.000000 & 1.584963 & 5.087463 & 3.459432 & 3.584963 & 0.000000 & 0.000000 & 2.321928 & 0.000000\\\\\n\tTCGA.A6.5665.11A.01R.1653.07 & 17.707089 & 13.068946 & 16.58915 & 15.02523 & 12.87479 & 15.22147 &  3.906891 & 14.09992 & 16.99093 &  3.321928 & ⋯ & 2.000000 & 3.000000 & 3.000000 & 6.228819 & 2.000000 & 2.000000 & 2.000000 & 0.000000 & 2.321928 & 0.000000\\\\\n\\end{tabular}\n",
            "text/plain": [
              "                             ENSG00000103375 ENSG00000183034 ENSG00000133742\n",
              "TCGA.AA.3662.11A.01R.1723.07 12.854089       10.975848       16.92844       \n",
              "TCGA.AA.3531.11A.01R.A32Z.07 16.962162       14.114312       16.93964       \n",
              "TCGA.AZ.6603.11A.02R.1839.07  5.491853        8.011227       10.45327       \n",
              "TCGA.AZ.6599.11A.01R.1774.07 11.864960       10.893302       14.84794       \n",
              "TCGA.AA.3655.11A.01R.1723.07 14.265249       11.318543       17.01345       \n",
              "TCGA.A6.5665.11A.01R.1653.07 17.707089       13.068946       16.58915       \n",
              "                             ENSG00000071203 ENSG00000182271 ENSG00000174992\n",
              "TCGA.AA.3662.11A.01R.1723.07 13.20915        11.65642        16.80979       \n",
              "TCGA.AA.3531.11A.01R.A32Z.07 14.29992        14.09267        16.72263       \n",
              "TCGA.AZ.6603.11A.02R.1839.07 12.02652         8.98014        14.02185       \n",
              "TCGA.AZ.6599.11A.01R.1774.07 11.58214        11.52013        15.93238       \n",
              "TCGA.AA.3655.11A.01R.1723.07 14.16554        12.84882        17.18153       \n",
              "TCGA.A6.5665.11A.01R.1653.07 15.02523        12.87479        15.22147       \n",
              "                             ENSG00000129824 ENSG00000197888 ENSG00000016602\n",
              "TCGA.AA.3662.11A.01R.1723.07  3.584963       13.51237        12.51002       \n",
              "TCGA.AA.3531.11A.01R.A32Z.07  4.000000       15.47352        17.43851       \n",
              "TCGA.AZ.6603.11A.02R.1839.07  2.584963       12.52013        13.20472       \n",
              "TCGA.AZ.6599.11A.01R.1774.07 12.782589       16.10364        15.68702       \n",
              "TCGA.AA.3655.11A.01R.1723.07 13.535518        2.00000        13.48457       \n",
              "TCGA.A6.5665.11A.01R.1653.07  3.906891       14.09992        16.99093       \n",
              "                             ENSG00000067048 ⋯ ENSG00000227295 ENSG00000285572\n",
              "TCGA.AA.3662.11A.01R.1723.07  1.000000       ⋯ 3.906891        2.807355       \n",
              "TCGA.AA.3531.11A.01R.A32Z.07  2.321928       ⋯ 4.906891        2.584963       \n",
              "TCGA.AZ.6603.11A.02R.1839.07  0.000000       ⋯ 3.584963        3.807355       \n",
              "TCGA.AZ.6599.11A.01R.1774.07 11.209453       ⋯ 3.169925        3.906891       \n",
              "TCGA.AA.3655.11A.01R.1723.07 10.618386       ⋯ 3.700440        0.000000       \n",
              "TCGA.A6.5665.11A.01R.1653.07  3.321928       ⋯ 2.000000        3.000000       \n",
              "                             ENSG00000188460 ENSG00000280927 ENSG00000254750\n",
              "TCGA.AA.3662.11A.01R.1723.07 1.584963        4.954196        1.584963       \n",
              "TCGA.AA.3531.11A.01R.A32Z.07 4.321928        5.285402        1.584963       \n",
              "TCGA.AZ.6603.11A.02R.1839.07 3.584963        5.459432        4.000000       \n",
              "TCGA.AZ.6599.11A.01R.1774.07 4.321928        6.247928        0.000000       \n",
              "TCGA.AA.3655.11A.01R.1723.07 1.584963        5.087463        3.459432       \n",
              "TCGA.A6.5665.11A.01R.1653.07 3.000000        6.228819        2.000000       \n",
              "                             ENSG00000225342 ENSG00000228264 ENSG00000207751\n",
              "TCGA.AA.3662.11A.01R.1723.07 3.584963        1.000000        0.000000       \n",
              "TCGA.AA.3531.11A.01R.A32Z.07 3.584963        1.584963        0.000000       \n",
              "TCGA.AZ.6603.11A.02R.1839.07 4.584963        0.000000        0.000000       \n",
              "TCGA.AZ.6599.11A.01R.1774.07 3.700440        2.321928        1.584963       \n",
              "TCGA.AA.3655.11A.01R.1723.07 3.584963        0.000000        0.000000       \n",
              "TCGA.A6.5665.11A.01R.1653.07 2.000000        2.000000        0.000000       \n",
              "                             ENSG00000275155 ENSG00000288032\n",
              "TCGA.AA.3662.11A.01R.1723.07 3.169925        0.000000       \n",
              "TCGA.AA.3531.11A.01R.A32Z.07 2.807355        0.000000       \n",
              "TCGA.AZ.6603.11A.02R.1839.07 3.169925        1.584963       \n",
              "TCGA.AZ.6599.11A.01R.1774.07 3.169925        0.000000       \n",
              "TCGA.AA.3655.11A.01R.1723.07 2.321928        0.000000       \n",
              "TCGA.A6.5665.11A.01R.1653.07 2.321928        0.000000       "
            ]
          },
          "metadata": {}
        }
      ]
    },
    {
      "cell_type": "code",
      "source": [
        "data_trans <- merge(data_trans, COAD_metadata, by = \"row.names\", sort = FALSE)\n",
        "dim(data_trans)"
      ],
      "metadata": {
        "colab": {
          "base_uri": "https://localhost:8080/",
          "height": 34
        },
        "id": "N3oxeInUDMwR",
        "outputId": "5d1bc457-d9bf-4155-8701-20d845d5f1ea"
      },
      "execution_count": 12,
      "outputs": [
        {
          "output_type": "display_data",
          "data": {
            "text/html": [
              "<style>\n",
              ".list-inline {list-style: none; margin:0; padding: 0}\n",
              ".list-inline>li {display: inline-block}\n",
              ".list-inline>li:not(:last-child)::after {content: \"\\00b7\"; padding: 0 .5ex}\n",
              "</style>\n",
              "<ol class=list-inline><li>40</li><li>8002</li></ol>\n"
            ],
            "text/markdown": "1. 40\n2. 8002\n\n\n",
            "text/latex": "\\begin{enumerate*}\n\\item 40\n\\item 8002\n\\end{enumerate*}\n",
            "text/plain": [
              "[1]   40 8002"
            ]
          },
          "metadata": {}
        }
      ]
    },
    {
      "cell_type": "code",
      "source": [
        "rownames(data_trans) <- data_trans$Row.names\n",
        "data_trans <- data_trans[,-1]\n",
        "head(data_trans)"
      ],
      "metadata": {
        "colab": {
          "base_uri": "https://localhost:8080/",
          "height": 410
        },
        "id": "LnXe3_DyFovc",
        "outputId": "559ded92-d2e0-4a0c-e481-92b75301b7e4"
      },
      "execution_count": 13,
      "outputs": [
        {
          "output_type": "display_data",
          "data": {
            "text/html": [
              "<table class=\"dataframe\">\n",
              "<caption>A data.frame: 6 × 8001</caption>\n",
              "<thead>\n",
              "\t<tr><th></th><th scope=col>ENSG00000103375</th><th scope=col>ENSG00000183034</th><th scope=col>ENSG00000133742</th><th scope=col>ENSG00000071203</th><th scope=col>ENSG00000182271</th><th scope=col>ENSG00000174992</th><th scope=col>ENSG00000129824</th><th scope=col>ENSG00000197888</th><th scope=col>ENSG00000016602</th><th scope=col>ENSG00000067048</th><th scope=col>⋯</th><th scope=col>ENSG00000285572</th><th scope=col>ENSG00000188460</th><th scope=col>ENSG00000280927</th><th scope=col>ENSG00000254750</th><th scope=col>ENSG00000225342</th><th scope=col>ENSG00000228264</th><th scope=col>ENSG00000207751</th><th scope=col>ENSG00000275155</th><th scope=col>ENSG00000288032</th><th scope=col>sample_type</th></tr>\n",
              "\t<tr><th></th><th scope=col>&lt;dbl&gt;</th><th scope=col>&lt;dbl&gt;</th><th scope=col>&lt;dbl&gt;</th><th scope=col>&lt;dbl&gt;</th><th scope=col>&lt;dbl&gt;</th><th scope=col>&lt;dbl&gt;</th><th scope=col>&lt;dbl&gt;</th><th scope=col>&lt;dbl&gt;</th><th scope=col>&lt;dbl&gt;</th><th scope=col>&lt;dbl&gt;</th><th scope=col>⋯</th><th scope=col>&lt;dbl&gt;</th><th scope=col>&lt;dbl&gt;</th><th scope=col>&lt;dbl&gt;</th><th scope=col>&lt;dbl&gt;</th><th scope=col>&lt;dbl&gt;</th><th scope=col>&lt;dbl&gt;</th><th scope=col>&lt;dbl&gt;</th><th scope=col>&lt;dbl&gt;</th><th scope=col>&lt;dbl&gt;</th><th scope=col>&lt;chr&gt;</th></tr>\n",
              "</thead>\n",
              "<tbody>\n",
              "\t<tr><th scope=row>TCGA.AA.3662.11A.01R.1723.07</th><td>12.854089</td><td>10.975848</td><td>16.92844</td><td>13.20915</td><td>11.65642</td><td>16.80979</td><td> 3.584963</td><td>13.51237</td><td>12.51002</td><td> 1.000000</td><td>⋯</td><td>2.807355</td><td>1.584963</td><td>4.954196</td><td>1.584963</td><td>3.584963</td><td>1.000000</td><td>0.000000</td><td>3.169925</td><td>0.000000</td><td>Solid Tissue Normal</td></tr>\n",
              "\t<tr><th scope=row>TCGA.AA.3531.11A.01R.A32Z.07</th><td>16.962162</td><td>14.114312</td><td>16.93964</td><td>14.29992</td><td>14.09267</td><td>16.72263</td><td> 4.000000</td><td>15.47352</td><td>17.43851</td><td> 2.321928</td><td>⋯</td><td>2.584963</td><td>4.321928</td><td>5.285402</td><td>1.584963</td><td>3.584963</td><td>1.584963</td><td>0.000000</td><td>2.807355</td><td>0.000000</td><td>Solid Tissue Normal</td></tr>\n",
              "\t<tr><th scope=row>TCGA.AZ.6603.11A.02R.1839.07</th><td> 5.491853</td><td> 8.011227</td><td>10.45327</td><td>12.02652</td><td> 8.98014</td><td>14.02185</td><td> 2.584963</td><td>12.52013</td><td>13.20472</td><td> 0.000000</td><td>⋯</td><td>3.807355</td><td>3.584963</td><td>5.459432</td><td>4.000000</td><td>4.584963</td><td>0.000000</td><td>0.000000</td><td>3.169925</td><td>1.584963</td><td>Solid Tissue Normal</td></tr>\n",
              "\t<tr><th scope=row>TCGA.AZ.6599.11A.01R.1774.07</th><td>11.864960</td><td>10.893302</td><td>14.84794</td><td>11.58214</td><td>11.52013</td><td>15.93238</td><td>12.782589</td><td>16.10364</td><td>15.68702</td><td>11.209453</td><td>⋯</td><td>3.906891</td><td>4.321928</td><td>6.247928</td><td>0.000000</td><td>3.700440</td><td>2.321928</td><td>1.584963</td><td>3.169925</td><td>0.000000</td><td>Solid Tissue Normal</td></tr>\n",
              "\t<tr><th scope=row>TCGA.AA.3655.11A.01R.1723.07</th><td>14.265249</td><td>11.318543</td><td>17.01345</td><td>14.16554</td><td>12.84882</td><td>17.18153</td><td>13.535518</td><td> 2.00000</td><td>13.48457</td><td>10.618386</td><td>⋯</td><td>0.000000</td><td>1.584963</td><td>5.087463</td><td>3.459432</td><td>3.584963</td><td>0.000000</td><td>0.000000</td><td>2.321928</td><td>0.000000</td><td>Solid Tissue Normal</td></tr>\n",
              "\t<tr><th scope=row>TCGA.A6.5665.11A.01R.1653.07</th><td>17.707089</td><td>13.068946</td><td>16.58915</td><td>15.02523</td><td>12.87479</td><td>15.22147</td><td> 3.906891</td><td>14.09992</td><td>16.99093</td><td> 3.321928</td><td>⋯</td><td>3.000000</td><td>3.000000</td><td>6.228819</td><td>2.000000</td><td>2.000000</td><td>2.000000</td><td>0.000000</td><td>2.321928</td><td>0.000000</td><td>Solid Tissue Normal</td></tr>\n",
              "</tbody>\n",
              "</table>\n"
            ],
            "text/markdown": "\nA data.frame: 6 × 8001\n\n| <!--/--> | ENSG00000103375 &lt;dbl&gt; | ENSG00000183034 &lt;dbl&gt; | ENSG00000133742 &lt;dbl&gt; | ENSG00000071203 &lt;dbl&gt; | ENSG00000182271 &lt;dbl&gt; | ENSG00000174992 &lt;dbl&gt; | ENSG00000129824 &lt;dbl&gt; | ENSG00000197888 &lt;dbl&gt; | ENSG00000016602 &lt;dbl&gt; | ENSG00000067048 &lt;dbl&gt; | ⋯ ⋯ | ENSG00000285572 &lt;dbl&gt; | ENSG00000188460 &lt;dbl&gt; | ENSG00000280927 &lt;dbl&gt; | ENSG00000254750 &lt;dbl&gt; | ENSG00000225342 &lt;dbl&gt; | ENSG00000228264 &lt;dbl&gt; | ENSG00000207751 &lt;dbl&gt; | ENSG00000275155 &lt;dbl&gt; | ENSG00000288032 &lt;dbl&gt; | sample_type &lt;chr&gt; |\n|---|---|---|---|---|---|---|---|---|---|---|---|---|---|---|---|---|---|---|---|---|---|\n| TCGA.AA.3662.11A.01R.1723.07 | 12.854089 | 10.975848 | 16.92844 | 13.20915 | 11.65642 | 16.80979 |  3.584963 | 13.51237 | 12.51002 |  1.000000 | ⋯ | 2.807355 | 1.584963 | 4.954196 | 1.584963 | 3.584963 | 1.000000 | 0.000000 | 3.169925 | 0.000000 | Solid Tissue Normal |\n| TCGA.AA.3531.11A.01R.A32Z.07 | 16.962162 | 14.114312 | 16.93964 | 14.29992 | 14.09267 | 16.72263 |  4.000000 | 15.47352 | 17.43851 |  2.321928 | ⋯ | 2.584963 | 4.321928 | 5.285402 | 1.584963 | 3.584963 | 1.584963 | 0.000000 | 2.807355 | 0.000000 | Solid Tissue Normal |\n| TCGA.AZ.6603.11A.02R.1839.07 |  5.491853 |  8.011227 | 10.45327 | 12.02652 |  8.98014 | 14.02185 |  2.584963 | 12.52013 | 13.20472 |  0.000000 | ⋯ | 3.807355 | 3.584963 | 5.459432 | 4.000000 | 4.584963 | 0.000000 | 0.000000 | 3.169925 | 1.584963 | Solid Tissue Normal |\n| TCGA.AZ.6599.11A.01R.1774.07 | 11.864960 | 10.893302 | 14.84794 | 11.58214 | 11.52013 | 15.93238 | 12.782589 | 16.10364 | 15.68702 | 11.209453 | ⋯ | 3.906891 | 4.321928 | 6.247928 | 0.000000 | 3.700440 | 2.321928 | 1.584963 | 3.169925 | 0.000000 | Solid Tissue Normal |\n| TCGA.AA.3655.11A.01R.1723.07 | 14.265249 | 11.318543 | 17.01345 | 14.16554 | 12.84882 | 17.18153 | 13.535518 |  2.00000 | 13.48457 | 10.618386 | ⋯ | 0.000000 | 1.584963 | 5.087463 | 3.459432 | 3.584963 | 0.000000 | 0.000000 | 2.321928 | 0.000000 | Solid Tissue Normal |\n| TCGA.A6.5665.11A.01R.1653.07 | 17.707089 | 13.068946 | 16.58915 | 15.02523 | 12.87479 | 15.22147 |  3.906891 | 14.09992 | 16.99093 |  3.321928 | ⋯ | 3.000000 | 3.000000 | 6.228819 | 2.000000 | 2.000000 | 2.000000 | 0.000000 | 2.321928 | 0.000000 | Solid Tissue Normal |\n\n",
            "text/latex": "A data.frame: 6 × 8001\n\\begin{tabular}{r|lllllllllllllllllllll}\n  & ENSG00000103375 & ENSG00000183034 & ENSG00000133742 & ENSG00000071203 & ENSG00000182271 & ENSG00000174992 & ENSG00000129824 & ENSG00000197888 & ENSG00000016602 & ENSG00000067048 & ⋯ & ENSG00000285572 & ENSG00000188460 & ENSG00000280927 & ENSG00000254750 & ENSG00000225342 & ENSG00000228264 & ENSG00000207751 & ENSG00000275155 & ENSG00000288032 & sample\\_type\\\\\n  & <dbl> & <dbl> & <dbl> & <dbl> & <dbl> & <dbl> & <dbl> & <dbl> & <dbl> & <dbl> & ⋯ & <dbl> & <dbl> & <dbl> & <dbl> & <dbl> & <dbl> & <dbl> & <dbl> & <dbl> & <chr>\\\\\n\\hline\n\tTCGA.AA.3662.11A.01R.1723.07 & 12.854089 & 10.975848 & 16.92844 & 13.20915 & 11.65642 & 16.80979 &  3.584963 & 13.51237 & 12.51002 &  1.000000 & ⋯ & 2.807355 & 1.584963 & 4.954196 & 1.584963 & 3.584963 & 1.000000 & 0.000000 & 3.169925 & 0.000000 & Solid Tissue Normal\\\\\n\tTCGA.AA.3531.11A.01R.A32Z.07 & 16.962162 & 14.114312 & 16.93964 & 14.29992 & 14.09267 & 16.72263 &  4.000000 & 15.47352 & 17.43851 &  2.321928 & ⋯ & 2.584963 & 4.321928 & 5.285402 & 1.584963 & 3.584963 & 1.584963 & 0.000000 & 2.807355 & 0.000000 & Solid Tissue Normal\\\\\n\tTCGA.AZ.6603.11A.02R.1839.07 &  5.491853 &  8.011227 & 10.45327 & 12.02652 &  8.98014 & 14.02185 &  2.584963 & 12.52013 & 13.20472 &  0.000000 & ⋯ & 3.807355 & 3.584963 & 5.459432 & 4.000000 & 4.584963 & 0.000000 & 0.000000 & 3.169925 & 1.584963 & Solid Tissue Normal\\\\\n\tTCGA.AZ.6599.11A.01R.1774.07 & 11.864960 & 10.893302 & 14.84794 & 11.58214 & 11.52013 & 15.93238 & 12.782589 & 16.10364 & 15.68702 & 11.209453 & ⋯ & 3.906891 & 4.321928 & 6.247928 & 0.000000 & 3.700440 & 2.321928 & 1.584963 & 3.169925 & 0.000000 & Solid Tissue Normal\\\\\n\tTCGA.AA.3655.11A.01R.1723.07 & 14.265249 & 11.318543 & 17.01345 & 14.16554 & 12.84882 & 17.18153 & 13.535518 &  2.00000 & 13.48457 & 10.618386 & ⋯ & 0.000000 & 1.584963 & 5.087463 & 3.459432 & 3.584963 & 0.000000 & 0.000000 & 2.321928 & 0.000000 & Solid Tissue Normal\\\\\n\tTCGA.A6.5665.11A.01R.1653.07 & 17.707089 & 13.068946 & 16.58915 & 15.02523 & 12.87479 & 15.22147 &  3.906891 & 14.09992 & 16.99093 &  3.321928 & ⋯ & 3.000000 & 3.000000 & 6.228819 & 2.000000 & 2.000000 & 2.000000 & 0.000000 & 2.321928 & 0.000000 & Solid Tissue Normal\\\\\n\\end{tabular}\n",
            "text/plain": [
              "                             ENSG00000103375 ENSG00000183034 ENSG00000133742\n",
              "TCGA.AA.3662.11A.01R.1723.07 12.854089       10.975848       16.92844       \n",
              "TCGA.AA.3531.11A.01R.A32Z.07 16.962162       14.114312       16.93964       \n",
              "TCGA.AZ.6603.11A.02R.1839.07  5.491853        8.011227       10.45327       \n",
              "TCGA.AZ.6599.11A.01R.1774.07 11.864960       10.893302       14.84794       \n",
              "TCGA.AA.3655.11A.01R.1723.07 14.265249       11.318543       17.01345       \n",
              "TCGA.A6.5665.11A.01R.1653.07 17.707089       13.068946       16.58915       \n",
              "                             ENSG00000071203 ENSG00000182271 ENSG00000174992\n",
              "TCGA.AA.3662.11A.01R.1723.07 13.20915        11.65642        16.80979       \n",
              "TCGA.AA.3531.11A.01R.A32Z.07 14.29992        14.09267        16.72263       \n",
              "TCGA.AZ.6603.11A.02R.1839.07 12.02652         8.98014        14.02185       \n",
              "TCGA.AZ.6599.11A.01R.1774.07 11.58214        11.52013        15.93238       \n",
              "TCGA.AA.3655.11A.01R.1723.07 14.16554        12.84882        17.18153       \n",
              "TCGA.A6.5665.11A.01R.1653.07 15.02523        12.87479        15.22147       \n",
              "                             ENSG00000129824 ENSG00000197888 ENSG00000016602\n",
              "TCGA.AA.3662.11A.01R.1723.07  3.584963       13.51237        12.51002       \n",
              "TCGA.AA.3531.11A.01R.A32Z.07  4.000000       15.47352        17.43851       \n",
              "TCGA.AZ.6603.11A.02R.1839.07  2.584963       12.52013        13.20472       \n",
              "TCGA.AZ.6599.11A.01R.1774.07 12.782589       16.10364        15.68702       \n",
              "TCGA.AA.3655.11A.01R.1723.07 13.535518        2.00000        13.48457       \n",
              "TCGA.A6.5665.11A.01R.1653.07  3.906891       14.09992        16.99093       \n",
              "                             ENSG00000067048 ⋯ ENSG00000285572 ENSG00000188460\n",
              "TCGA.AA.3662.11A.01R.1723.07  1.000000       ⋯ 2.807355        1.584963       \n",
              "TCGA.AA.3531.11A.01R.A32Z.07  2.321928       ⋯ 2.584963        4.321928       \n",
              "TCGA.AZ.6603.11A.02R.1839.07  0.000000       ⋯ 3.807355        3.584963       \n",
              "TCGA.AZ.6599.11A.01R.1774.07 11.209453       ⋯ 3.906891        4.321928       \n",
              "TCGA.AA.3655.11A.01R.1723.07 10.618386       ⋯ 0.000000        1.584963       \n",
              "TCGA.A6.5665.11A.01R.1653.07  3.321928       ⋯ 3.000000        3.000000       \n",
              "                             ENSG00000280927 ENSG00000254750 ENSG00000225342\n",
              "TCGA.AA.3662.11A.01R.1723.07 4.954196        1.584963        3.584963       \n",
              "TCGA.AA.3531.11A.01R.A32Z.07 5.285402        1.584963        3.584963       \n",
              "TCGA.AZ.6603.11A.02R.1839.07 5.459432        4.000000        4.584963       \n",
              "TCGA.AZ.6599.11A.01R.1774.07 6.247928        0.000000        3.700440       \n",
              "TCGA.AA.3655.11A.01R.1723.07 5.087463        3.459432        3.584963       \n",
              "TCGA.A6.5665.11A.01R.1653.07 6.228819        2.000000        2.000000       \n",
              "                             ENSG00000228264 ENSG00000207751 ENSG00000275155\n",
              "TCGA.AA.3662.11A.01R.1723.07 1.000000        0.000000        3.169925       \n",
              "TCGA.AA.3531.11A.01R.A32Z.07 1.584963        0.000000        2.807355       \n",
              "TCGA.AZ.6603.11A.02R.1839.07 0.000000        0.000000        3.169925       \n",
              "TCGA.AZ.6599.11A.01R.1774.07 2.321928        1.584963        3.169925       \n",
              "TCGA.AA.3655.11A.01R.1723.07 0.000000        0.000000        2.321928       \n",
              "TCGA.A6.5665.11A.01R.1653.07 2.000000        0.000000        2.321928       \n",
              "                             ENSG00000288032 sample_type        \n",
              "TCGA.AA.3662.11A.01R.1723.07 0.000000        Solid Tissue Normal\n",
              "TCGA.AA.3531.11A.01R.A32Z.07 0.000000        Solid Tissue Normal\n",
              "TCGA.AZ.6603.11A.02R.1839.07 1.584963        Solid Tissue Normal\n",
              "TCGA.AZ.6599.11A.01R.1774.07 0.000000        Solid Tissue Normal\n",
              "TCGA.AA.3655.11A.01R.1723.07 0.000000        Solid Tissue Normal\n",
              "TCGA.A6.5665.11A.01R.1653.07 0.000000        Solid Tissue Normal"
            ]
          },
          "metadata": {}
        }
      ]
    },
    {
      "cell_type": "code",
      "source": [
        "# Removing genes with Near Zero Variation (NZV)\n",
        "data_zero <- preProcess(data_trans, method = \"nzv\", uniqueCut = 15)\n",
        "data_trans <- predict(data_zero, data_trans)"
      ],
      "metadata": {
        "id": "OiIXIWVRHR7m"
      },
      "execution_count": 14,
      "outputs": []
    },
    {
      "cell_type": "code",
      "source": [
        "dim(data_trans)"
      ],
      "metadata": {
        "colab": {
          "base_uri": "https://localhost:8080/",
          "height": 34
        },
        "id": "rtRzLECjKb5T",
        "outputId": "23b1dfc8-6145-44ee-c5e0-ea22bb240242"
      },
      "execution_count": 15,
      "outputs": [
        {
          "output_type": "display_data",
          "data": {
            "text/html": [
              "<style>\n",
              ".list-inline {list-style: none; margin:0; padding: 0}\n",
              ".list-inline>li {display: inline-block}\n",
              ".list-inline>li:not(:last-child)::after {content: \"\\00b7\"; padding: 0 .5ex}\n",
              "</style>\n",
              "<ol class=list-inline><li>40</li><li>7991</li></ol>\n"
            ],
            "text/markdown": "1. 40\n2. 7991\n\n\n",
            "text/latex": "\\begin{enumerate*}\n\\item 40\n\\item 7991\n\\end{enumerate*}\n",
            "text/plain": [
              "[1]   40 7991"
            ]
          },
          "metadata": {}
        }
      ]
    },
    {
      "cell_type": "code",
      "source": [
        "# Center the data\n",
        "data_center <- preProcess(data_trans, method = \"center\")\n",
        "data_trans <- predict(data_center, data_trans)\n",
        "dim(data_trans)"
      ],
      "metadata": {
        "colab": {
          "base_uri": "https://localhost:8080/",
          "height": 34
        },
        "id": "sZwiDsxoKEvp",
        "outputId": "e16eb374-69b4-41bf-ed9b-c18fdaefc651"
      },
      "execution_count": 16,
      "outputs": [
        {
          "output_type": "display_data",
          "data": {
            "text/html": [
              "<style>\n",
              ".list-inline {list-style: none; margin:0; padding: 0}\n",
              ".list-inline>li {display: inline-block}\n",
              ".list-inline>li:not(:last-child)::after {content: \"\\00b7\"; padding: 0 .5ex}\n",
              "</style>\n",
              "<ol class=list-inline><li>40</li><li>7991</li></ol>\n"
            ],
            "text/markdown": "1. 40\n2. 7991\n\n\n",
            "text/latex": "\\begin{enumerate*}\n\\item 40\n\\item 7991\n\\end{enumerate*}\n",
            "text/plain": [
              "[1]   40 7991"
            ]
          },
          "metadata": {}
        }
      ]
    },
    {
      "cell_type": "code",
      "source": [
        "# remove highly correlated data\n",
        "data_corr <- preProcess(data_trans, method = \"corr\", cutoff = 0.52)\n",
        "data_trans <- predict(data_corr, data_trans)\n",
        "dim(data_trans)"
      ],
      "metadata": {
        "colab": {
          "base_uri": "https://localhost:8080/",
          "height": 34
        },
        "id": "hk9-0ws0KxZs",
        "outputId": "9fb39250-99be-4bdb-a314-3edb68159461"
      },
      "execution_count": 17,
      "outputs": [
        {
          "output_type": "display_data",
          "data": {
            "text/html": [
              "<style>\n",
              ".list-inline {list-style: none; margin:0; padding: 0}\n",
              ".list-inline>li {display: inline-block}\n",
              ".list-inline>li:not(:last-child)::after {content: \"\\00b7\"; padding: 0 .5ex}\n",
              "</style>\n",
              "<ol class=list-inline><li>40</li><li>166</li></ol>\n"
            ],
            "text/markdown": "1. 40\n2. 166\n\n\n",
            "text/latex": "\\begin{enumerate*}\n\\item 40\n\\item 166\n\\end{enumerate*}\n",
            "text/plain": [
              "[1]  40 166"
            ]
          },
          "metadata": {}
        }
      ]
    },
    {
      "cell_type": "markdown",
      "source": [
        "### **Splitting dataset into training and test datasets**"
      ],
      "metadata": {
        "id": "QzNYi7DBMXZq"
      }
    },
    {
      "cell_type": "code",
      "source": [
        "# splitting the dataset in the ratio 80:20\n",
        "intrain <- createDataPartition(y = data_trans$sample_type, p = 0.7)[[1]]\n",
        "train_data <- data_trans[intrain,]\n",
        "test_data <- data_trans[-intrain,]\n",
        "dim(train_data)\n",
        "dim(test_data)"
      ],
      "metadata": {
        "colab": {
          "base_uri": "https://localhost:8080/",
          "height": 52
        },
        "id": "5WoNseCGLEap",
        "outputId": "f022dd31-86ab-4b2a-de36-6a23ae407e95"
      },
      "execution_count": 18,
      "outputs": [
        {
          "output_type": "display_data",
          "data": {
            "text/html": [
              "<style>\n",
              ".list-inline {list-style: none; margin:0; padding: 0}\n",
              ".list-inline>li {display: inline-block}\n",
              ".list-inline>li:not(:last-child)::after {content: \"\\00b7\"; padding: 0 .5ex}\n",
              "</style>\n",
              "<ol class=list-inline><li>28</li><li>166</li></ol>\n"
            ],
            "text/markdown": "1. 28\n2. 166\n\n\n",
            "text/latex": "\\begin{enumerate*}\n\\item 28\n\\item 166\n\\end{enumerate*}\n",
            "text/plain": [
              "[1]  28 166"
            ]
          },
          "metadata": {}
        },
        {
          "output_type": "display_data",
          "data": {
            "text/html": [
              "<style>\n",
              ".list-inline {list-style: none; margin:0; padding: 0}\n",
              ".list-inline>li {display: inline-block}\n",
              ".list-inline>li:not(:last-child)::after {content: \"\\00b7\"; padding: 0 .5ex}\n",
              "</style>\n",
              "<ol class=list-inline><li>12</li><li>166</li></ol>\n"
            ],
            "text/markdown": "1. 12\n2. 166\n\n\n",
            "text/latex": "\\begin{enumerate*}\n\\item 12\n\\item 166\n\\end{enumerate*}\n",
            "text/plain": [
              "[1]  12 166"
            ]
          },
          "metadata": {}
        }
      ]
    },
    {
      "cell_type": "markdown",
      "source": [
        "### **Training the Machine Learning Model on the Training dataset**"
      ],
      "metadata": {
        "id": "Jk8leOu3OQgX"
      }
    },
    {
      "cell_type": "code",
      "source": [
        "# to prevent any bias; done by the cross validation method\n",
        "control.bias <- trainControl(method = \"cv\", number = 7)"
      ],
      "metadata": {
        "id": "0myKPHAfOPpg"
      },
      "execution_count": 19,
      "outputs": []
    },
    {
      "cell_type": "code",
      "source": [
        "#training the model\n",
        "rf.output <- train(sample_type~.,\n",
        "                  data = train_data,\n",
        "                  method = \"ranger\",\n",
        "                  trControl = control.bias,\n",
        "                  importance = \"permutation\",\n",
        "                  tuneGrid = data.frame(mtry = 100,\n",
        "                                        min.node.size = 1,\n",
        "                                        splitrule = \"gini\"))"
      ],
      "metadata": {
        "id": "C1UorC5rPGPx"
      },
      "execution_count": 20,
      "outputs": []
    },
    {
      "cell_type": "code",
      "source": [
        "rf.output$finalModel$prediction.error"
      ],
      "metadata": {
        "colab": {
          "base_uri": "https://localhost:8080/",
          "height": 34
        },
        "id": "L7HQqi3m23U2",
        "outputId": "71629933-d5cd-4218-bbce-10f885705c0b"
      },
      "execution_count": 21,
      "outputs": [
        {
          "output_type": "display_data",
          "data": {
            "text/html": [
              "0.214285714285714"
            ],
            "text/markdown": "0.214285714285714",
            "text/latex": "0.214285714285714",
            "text/plain": [
              "[1] 0.2142857"
            ]
          },
          "metadata": {}
        }
      ]
    },
    {
      "cell_type": "code",
      "source": [
        "#Extract the top 10 important genes for functional enrichment analysis\n",
        "# Calculate variable importance\n",
        "importance_rf <- varImp(rf.output)\n",
        "\n",
        "# Get the top 10 genes\n",
        "importance_df <- data.frame(gene = rownames(importance_rf$importance),\n",
        "                           importance = importance_rf$importance)\n",
        "\n",
        "# Order by importance and select top 10 genes\n",
        "top_10_genes <- head(importance_df[order(importance_df$Overall, decreasing = TRUE), ], 10)\n",
        "top_10 <- as.data.frame(rownames(top_10_genes))\n",
        "top_10\n"
      ],
      "metadata": {
        "colab": {
          "base_uri": "https://localhost:8080/",
          "height": 411
        },
        "id": "EHllxW41_Ir3",
        "outputId": "40f76775-946e-49b7-f2fb-a09767a67911"
      },
      "execution_count": 22,
      "outputs": [
        {
          "output_type": "display_data",
          "data": {
            "text/html": [
              "<table class=\"dataframe\">\n",
              "<caption>A data.frame: 10 × 1</caption>\n",
              "<thead>\n",
              "\t<tr><th scope=col>rownames(top_10_genes)</th></tr>\n",
              "\t<tr><th scope=col>&lt;chr&gt;</th></tr>\n",
              "</thead>\n",
              "<tbody>\n",
              "\t<tr><td>ENSG00000282122</td></tr>\n",
              "\t<tr><td>ENSG00000134184</td></tr>\n",
              "\t<tr><td>ENSG00000109158</td></tr>\n",
              "\t<tr><td>ENSG00000164093</td></tr>\n",
              "\t<tr><td>ENSG00000158477</td></tr>\n",
              "\t<tr><td>ENSG00000261613</td></tr>\n",
              "\t<tr><td>ENSG00000242516</td></tr>\n",
              "\t<tr><td>ENSG00000189343</td></tr>\n",
              "\t<tr><td>ENSG00000242173</td></tr>\n",
              "\t<tr><td>ENSG00000140835</td></tr>\n",
              "</tbody>\n",
              "</table>\n"
            ],
            "text/markdown": "\nA data.frame: 10 × 1\n\n| rownames(top_10_genes) &lt;chr&gt; |\n|---|\n| ENSG00000282122 |\n| ENSG00000134184 |\n| ENSG00000109158 |\n| ENSG00000164093 |\n| ENSG00000158477 |\n| ENSG00000261613 |\n| ENSG00000242516 |\n| ENSG00000189343 |\n| ENSG00000242173 |\n| ENSG00000140835 |\n\n",
            "text/latex": "A data.frame: 10 × 1\n\\begin{tabular}{l}\n rownames(top\\_10\\_genes)\\\\\n <chr>\\\\\n\\hline\n\t ENSG00000282122\\\\\n\t ENSG00000134184\\\\\n\t ENSG00000109158\\\\\n\t ENSG00000164093\\\\\n\t ENSG00000158477\\\\\n\t ENSG00000261613\\\\\n\t ENSG00000242516\\\\\n\t ENSG00000189343\\\\\n\t ENSG00000242173\\\\\n\t ENSG00000140835\\\\\n\\end{tabular}\n",
            "text/plain": [
              "   rownames(top_10_genes)\n",
              "1  ENSG00000282122       \n",
              "2  ENSG00000134184       \n",
              "3  ENSG00000109158       \n",
              "4  ENSG00000164093       \n",
              "5  ENSG00000158477       \n",
              "6  ENSG00000261613       \n",
              "7  ENSG00000242516       \n",
              "8  ENSG00000189343       \n",
              "9  ENSG00000242173       \n",
              "10 ENSG00000140835       "
            ]
          },
          "metadata": {}
        }
      ]
    },
    {
      "cell_type": "code",
      "source": [
        "plot(importance_rf, top = 10)"
      ],
      "metadata": {
        "colab": {
          "base_uri": "https://localhost:8080/",
          "height": 437
        },
        "id": "Ejt8bzMu2-s1",
        "outputId": "ce217882-0a7c-4257-933e-7183176343f3"
      },
      "execution_count": 23,
      "outputs": [
        {
          "output_type": "display_data",
          "data": {
            "text/plain": [
              "plot without title"
            ],
            "image/png": "[encoded data removed]"
          },
          "metadata": {
            "image/png": {
              "width": 420,
              "height": 420
            }
          }
        }
      ]
    },
    {
      "cell_type": "code",
      "source": [
        "#extract gene names using biomaRt package and saving it in a csv file\n",
        "mart <- useMart(\"ensembl\",  dataset = \"hsapiens_gene_ensembl\")\n",
        "top_10_gene_names <- getBM(attributes = c(\"ensembl_gene_id\", \"hgnc_symbol\"),\n",
        "                   filters = \"ensembl_gene_id\",\n",
        "                   values = top_10_genes,\n",
        "                   mart = mart)$hgnc_symbol"
      ],
      "metadata": {
        "id": "0EZ2zoU0JFMI"
      },
      "execution_count": 24,
      "outputs": []
    },
    {
      "cell_type": "code",
      "source": [
        "write.csv(top_10_gene_names,\"top10_ML_gene_names.csv\")"
      ],
      "metadata": {
        "id": "k8NO2d63Jrxx"
      },
      "execution_count": 25,
      "outputs": []
    },
    {
      "cell_type": "code",
      "source": [
        "# predicting on test data\n",
        "rf.predictions <- predict(rf.output, test_data)"
      ],
      "metadata": {
        "id": "hBJoMwFTcokQ"
      },
      "execution_count": 26,
      "outputs": []
    },
    {
      "cell_type": "code",
      "source": [
        "# Convert rf.predictions and test_data$sample_type to factors with the same levels\n",
        "rf.predictions <- as.factor(rf.predictions)\n",
        "test_data$sample_type <- as.factor(test_data$sample_type)\n",
        "\n",
        "# Set the levels of rf.predictions to be the same as test_data$sample_type\n",
        "levels(rf.predictions) <- levels(test_data$sample_type)"
      ],
      "metadata": {
        "id": "B7VDmVyoc4Xt"
      },
      "execution_count": 27,
      "outputs": []
    },
    {
      "cell_type": "code",
      "source": [
        "confusionMatrix(rf.predictions, test_data$sample_type)"
      ],
      "metadata": {
        "colab": {
          "base_uri": "https://localhost:8080/",
          "height": 486
        },
        "id": "6h7T-vmJcwnX",
        "outputId": "99706ce4-85af-413a-b426-b22d858ac424"
      },
      "execution_count": 28,
      "outputs": [
        {
          "output_type": "display_data",
          "data": {
            "text/plain": [
              "Confusion Matrix and Statistics\n",
              "\n",
              "                     Reference\n",
              "Prediction            Primary Tumor Solid Tissue Normal\n",
              "  Primary Tumor                   3                   0\n",
              "  Solid Tissue Normal             3                   6\n",
              "                                          \n",
              "               Accuracy : 0.75            \n",
              "                 95% CI : (0.4281, 0.9451)\n",
              "    No Information Rate : 0.5             \n",
              "    P-Value [Acc > NIR] : 0.0730          \n",
              "                                          \n",
              "                  Kappa : 0.5             \n",
              "                                          \n",
              " Mcnemar's Test P-Value : 0.2482          \n",
              "                                          \n",
              "            Sensitivity : 0.5000          \n",
              "            Specificity : 1.0000          \n",
              "         Pos Pred Value : 1.0000          \n",
              "         Neg Pred Value : 0.6667          \n",
              "             Prevalence : 0.5000          \n",
              "         Detection Rate : 0.2500          \n",
              "   Detection Prevalence : 0.2500          \n",
              "      Balanced Accuracy : 0.7500          \n",
              "                                          \n",
              "       'Positive' Class : Primary Tumor   \n",
              "                                          "
            ]
          },
          "metadata": {}
        }
      ]
    }
  ]
}